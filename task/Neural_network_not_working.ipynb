{
  "nbformat": 4,
  "nbformat_minor": 0,
  "metadata": {
    "colab": {
      "provenance": []
    },
    "kernelspec": {
      "name": "python3",
      "display_name": "Python 3"
    },
    "language_info": {
      "name": "python"
    }
  },
  "cells": [
    {
      "cell_type": "code",
      "execution_count": null,
      "metadata": {
        "id": "Fe9kUjzFzTbb"
      },
      "outputs": [],
      "source": [
        "import torch"
      ]
    },
    {
      "cell_type": "code",
      "source": [
        "random_t = torch.rand(3,3,4)"
      ],
      "metadata": {
        "id": "SD5jQDY2zUrE"
      },
      "execution_count": null,
      "outputs": []
    },
    {
      "cell_type": "code",
      "source": [
        "\n",
        "random_t\n"
      ],
      "metadata": {
        "colab": {
          "base_uri": "https://localhost:8080/"
        },
        "id": "IHQv_EAUzbOH",
        "outputId": "8bf2d7e1-8f7a-44a1-c63f-1d7709886a41"
      },
      "execution_count": null,
      "outputs": [
        {
          "output_type": "execute_result",
          "data": {
            "text/plain": [
              "tensor([[[0.2166, 0.6475, 0.9461, 0.9997],\n",
              "         [0.9052, 0.4802, 0.5259, 0.9155],\n",
              "         [0.6931, 0.0853, 0.6073, 0.3807]],\n",
              "\n",
              "        [[0.7440, 0.0132, 0.5125, 0.2938],\n",
              "         [0.7120, 0.0027, 0.3975, 0.6434],\n",
              "         [0.8959, 0.0823, 0.5159, 0.4104]],\n",
              "\n",
              "        [[0.2061, 0.7957, 0.8415, 0.5694],\n",
              "         [0.2506, 0.1034, 0.9800, 0.0175],\n",
              "         [0.8647, 0.3286, 0.9112, 0.2330]]])"
            ]
          },
          "metadata": {},
          "execution_count": 7
        }
      ]
    },
    {
      "cell_type": "code",
      "source": [
        "import numpy as np"
      ],
      "metadata": {
        "id": "8jaU5mNnm3b5"
      },
      "execution_count": null,
      "outputs": []
    },
    {
      "cell_type": "code",
      "source": [
        "#A=np.array([[0,5,-10],[0,22,16],[0,-9,-2]])\n",
        "A= np.array([[-5,-4,12]])\n",
        "B= np.array([[-7,11,21]])"
      ],
      "metadata": {
        "id": "Zcxiqbcqzcom"
      },
      "execution_count": null,
      "outputs": []
    },
    {
      "cell_type": "code",
      "source": [
        "A.shape"
      ],
      "metadata": {
        "colab": {
          "base_uri": "https://localhost:8080/"
        },
        "id": "zw6x36FOmdrI",
        "outputId": "153f11e8-9e7a-400e-a677-8cf8206b7a1d"
      },
      "execution_count": null,
      "outputs": [
        {
          "output_type": "execute_result",
          "data": {
            "text/plain": [
              "(1, 3)"
            ]
          },
          "metadata": {},
          "execution_count": 54
        }
      ]
    },
    {
      "cell_type": "code",
      "source": [
        "\n",
        "\n",
        "B=np.reshape(B, (-1, 1))"
      ],
      "metadata": {
        "id": "YGmgNCIpmpno"
      },
      "execution_count": null,
      "outputs": []
    },
    {
      "cell_type": "code",
      "source": [
        "B"
      ],
      "metadata": {
        "colab": {
          "base_uri": "https://localhost:8080/"
        },
        "id": "pd9ArfvYpmLZ",
        "outputId": "41152f9a-f568-4a7b-8ac3-e4a0222f8155"
      },
      "execution_count": null,
      "outputs": [
        {
          "output_type": "execute_result",
          "data": {
            "text/plain": [
              "array([[-7],\n",
              "       [11],\n",
              "       [21]])"
            ]
          },
          "metadata": {},
          "execution_count": 56
        }
      ]
    },
    {
      "cell_type": "code",
      "source": [
        "B.shape"
      ],
      "metadata": {
        "colab": {
          "base_uri": "https://localhost:8080/"
        },
        "id": "NhwqysWWpoEn",
        "outputId": "1c2d46d3-0bf9-41d7-f3ef-9c4ef8522535"
      },
      "execution_count": null,
      "outputs": [
        {
          "output_type": "execute_result",
          "data": {
            "text/plain": [
              "(3, 1)"
            ]
          },
          "metadata": {},
          "execution_count": 57
        }
      ]
    },
    {
      "cell_type": "code",
      "source": [
        "\n",
        "\n",
        "C= B@A"
      ],
      "metadata": {
        "id": "FnLJYGEuoZg7"
      },
      "execution_count": null,
      "outputs": []
    },
    {
      "cell_type": "code",
      "source": [
        "\n",
        "C"
      ],
      "metadata": {
        "colab": {
          "base_uri": "https://localhost:8080/"
        },
        "id": "k3Dsw2kGmyWz",
        "outputId": "04f76d89-307f-4374-8c0d-5ad9357fb128"
      },
      "execution_count": null,
      "outputs": [
        {
          "output_type": "execute_result",
          "data": {
            "text/plain": [
              "array([[  35,   28,  -84],\n",
              "       [ -55,  -44,  132],\n",
              "       [-105,  -84,  252]])"
            ]
          },
          "metadata": {},
          "execution_count": 59
        }
      ]
    },
    {
      "cell_type": "code",
      "source": [
        "C.shape"
      ],
      "metadata": {
        "colab": {
          "base_uri": "https://localhost:8080/"
        },
        "id": "hFapoP3ijbAZ",
        "outputId": "610abea3-1f0d-4acb-be05-4bd9cc0c8ff5"
      },
      "execution_count": null,
      "outputs": [
        {
          "output_type": "execute_result",
          "data": {
            "text/plain": [
              "(3, 3)"
            ]
          },
          "metadata": {},
          "execution_count": 60
        }
      ]
    },
    {
      "cell_type": "code",
      "source": [
        "\n",
        "A_det = np.linalg.det(C)\n",
        "print(A_det)"
      ],
      "metadata": {
        "colab": {
          "base_uri": "https://localhost:8080/"
        },
        "id": "ATTeFUi1yFKY",
        "outputId": "3db4b9b4-b56b-4ab6-b17c-55e3c2202daa"
      },
      "execution_count": null,
      "outputs": [
        {
          "output_type": "stream",
          "name": "stdout",
          "text": [
            "0.0\n"
          ]
        }
      ]
    },
    {
      "cell_type": "code",
      "source": [
        "A_det = np.linalg.eig(C)\n",
        "print(A_det)"
      ],
      "metadata": {
        "colab": {
          "base_uri": "https://localhost:8080/"
        },
        "id": "5KzCKiTHkhT2",
        "outputId": "062ba80b-df70-43be-cb94-8b50cbca749f"
      },
      "execution_count": null,
      "outputs": [
        {
          "output_type": "stream",
          "name": "stdout",
          "text": [
            "EigResult(eigenvalues=array([6.00000000e+00, 1.44247142e-15, 9.94529178e-16]), eigenvectors=array([[-0.26726124,  0.5971328 , -0.40454357],\n",
            "       [ 0.53452248, -0.15634765, -0.16847086],\n",
            "       [ 0.80178373,  0.7867578 , -0.8988671 ]]))\n"
          ]
        }
      ]
    },
    {
      "cell_type": "code",
      "source": [
        "type(C)"
      ],
      "metadata": {
        "colab": {
          "base_uri": "https://localhost:8080/"
        },
        "id": "fE1juUKBjJrJ",
        "outputId": "97725673-c4d5-41fe-e4a7-1e70401c6b5b"
      },
      "execution_count": null,
      "outputs": [
        {
          "output_type": "execute_result",
          "data": {
            "text/plain": [
              "numpy.ndarray"
            ]
          },
          "metadata": {},
          "execution_count": 29
        }
      ]
    },
    {
      "cell_type": "code",
      "source": [
        "A_det"
      ],
      "metadata": {
        "colab": {
          "base_uri": "https://localhost:8080/"
        },
        "id": "LmT4KNGnivUm",
        "outputId": "8a488c1f-0381-4678-a842-e3805b37c419"
      },
      "execution_count": null,
      "outputs": [
        {
          "output_type": "execute_result",
          "data": {
            "text/plain": [
              "0.0"
            ]
          },
          "metadata": {},
          "execution_count": 19
        }
      ]
    },
    {
      "cell_type": "code",
      "source": [
        "A = np.array([[1,5,0], [0,10,0], [0,0,9]])\n",
        "determinant = np.linalg.det(A)\n",
        "print ('A = ', A)\n",
        "print ('determinant of A= ', determinant)"
      ],
      "metadata": {
        "colab": {
          "base_uri": "https://localhost:8080/"
        },
        "id": "FwVFu7cdiwlu",
        "outputId": "4ee96a22-167f-4332-c9cd-8d880b9f19ca"
      },
      "execution_count": null,
      "outputs": [
        {
          "output_type": "stream",
          "name": "stdout",
          "text": [
            "A =  [[ 1  5  0]\n",
            " [ 0 10  0]\n",
            " [ 0  0  9]]\n",
            "determinant of A=  90.0\n"
          ]
        }
      ]
    },
    {
      "cell_type": "code",
      "source": [
        "type(A)"
      ],
      "metadata": {
        "colab": {
          "base_uri": "https://localhost:8080/"
        },
        "id": "AdGxv8xYjzCI",
        "outputId": "a4b3b4f2-4587-44f3-b3ea-af2d2a271367"
      },
      "execution_count": null,
      "outputs": [
        {
          "output_type": "execute_result",
          "data": {
            "text/plain": [
              "numpy.ndarray"
            ]
          },
          "metadata": {},
          "execution_count": 30
        }
      ]
    },
    {
      "cell_type": "code",
      "source": [
        "A.shape"
      ],
      "metadata": {
        "colab": {
          "base_uri": "https://localhost:8080/"
        },
        "id": "pTL3J1GbjYz4",
        "outputId": "e34f3fbe-e95f-4350-8e7c-4bc9bbe8fb1d"
      },
      "execution_count": null,
      "outputs": [
        {
          "output_type": "execute_result",
          "data": {
            "text/plain": [
              "(3, 3)"
            ]
          },
          "metadata": {},
          "execution_count": 24
        }
      ]
    },
    {
      "cell_type": "code",
      "source": [
        "# Python program to illustrate functions\n",
        "# can be treated as objects\n",
        "def shout(text):\n",
        "\treturn text.upper()\n",
        "\n",
        "print(shout('Hello'))\n",
        "\n",
        "yell = shout\n",
        "\n",
        "print(yell('Hello'))\n"
      ],
      "metadata": {
        "id": "jJbDAB3qjNJN",
        "colab": {
          "base_uri": "https://localhost:8080/"
        },
        "outputId": "aa727516-5b39-4ab8-dc24-03787642d340"
      },
      "execution_count": null,
      "outputs": [
        {
          "output_type": "stream",
          "name": "stdout",
          "text": [
            "HELLO\n",
            "HELLO\n"
          ]
        }
      ]
    },
    {
      "cell_type": "code",
      "source": [
        "# Python program to illustrate functions\n",
        "# can be passed as arguments to other functions\n",
        "def shout(text):\n",
        "\treturn text.upper()\n",
        "\n",
        "def whisper(text):\n",
        "\treturn text.lower()\n",
        "\n",
        "def greet(func):\n",
        "\t# storing the function in a variable\n",
        "\tgreeting = func(\"\"\"Hi, I am created by a function passed as an argument.\"\"\")\n",
        "\tprint (greeting)\n",
        "\n",
        "greet(shout)\n",
        "greet(whisper)\n"
      ],
      "metadata": {
        "colab": {
          "base_uri": "https://localhost:8080/"
        },
        "id": "BY7R9UD9ZvSx",
        "outputId": "ddfd5c94-3785-48ee-d851-51148a56330e"
      },
      "execution_count": null,
      "outputs": [
        {
          "output_type": "stream",
          "name": "stdout",
          "text": [
            "HI, I AM CREATED BY A FUNCTION PASSED AS AN ARGUMENT.\n",
            "hi, i am created by a function passed as an argument.\n"
          ]
        }
      ]
    },
    {
      "cell_type": "code",
      "source": [
        "def create_adder(x):\n",
        "    def adder(y):\n",
        "        return x+y\n",
        "\n",
        "    return adder\n",
        "\n",
        "add_15 = create_adder(15)\n",
        "\n",
        "print(add_15(10))"
      ],
      "metadata": {
        "id": "SWMnRO2hZ5Pu"
      },
      "execution_count": null,
      "outputs": []
    },
    {
      "cell_type": "code",
      "source": [],
      "metadata": {
        "id": "pWcfR3YG8n0q"
      },
      "execution_count": null,
      "outputs": []
    },
    {
      "cell_type": "code",
      "source": [
        "def hello_decorator(func):\n",
        "\tdef inner1(*args, **kwargs):\n",
        "\n",
        "\t\tprint(\"before Execution\")\n",
        "\n",
        "\t\t# getting the returned value\n",
        "\t\treturned_value = func(*args, **kwargs)\n",
        "\t\tprint(\"after Execution\")\n",
        "\n",
        "\t\t# returning the value to the original frame\n",
        "\t\treturn returned_value\n",
        "\n",
        "\treturn inner1\n",
        "\n",
        "\n",
        "# adding decorator to the function\n",
        "@hello_decorator\n",
        "def sum_two_numbers(a, b):\n",
        "\tprint(\"Inside the function\")\n",
        "\treturn a + b\n",
        "\n",
        "a, b,c = 1, 2,3\n",
        "\n",
        "# getting the value through return of the function\n",
        "print(\"Sum =\", sum_two_numbers(a, b))\n"
      ],
      "metadata": {
        "id": "Ur9BrVTH72St"
      },
      "execution_count": null,
      "outputs": []
    },
    {
      "cell_type": "code",
      "source": [
        "import pandas as pd\n",
        "import numpy as np\n",
        "import asyncio\n",
        "from concurrent.futures import ThreadPoolExecutor\n"
      ],
      "metadata": {
        "id": "sTkHOsz5SqAg"
      },
      "execution_count": null,
      "outputs": []
    },
    {
      "cell_type": "code",
      "source": [
        "# Creating a sample DataFrame with millions of rows\n",
        "df = pd.DataFrame(np.random.randn(1000000, 4), columns=list('ABCD'))\n"
      ],
      "metadata": {
        "id": "lUMsBig6SrQG"
      },
      "execution_count": null,
      "outputs": []
    },
    {
      "cell_type": "code",
      "source": [
        "df"
      ],
      "metadata": {
        "colab": {
          "base_uri": "https://localhost:8080/",
          "height": 423
        },
        "id": "fNBq8Ke1SwGo",
        "outputId": "2e95d895-dca7-4256-abba-995d8fa17b4f"
      },
      "execution_count": null,
      "outputs": [
        {
          "output_type": "execute_result",
          "data": {
            "text/plain": [
              "               A         B         C         D\n",
              "0      -0.173538 -1.934072  0.557310 -1.971722\n",
              "1       0.546098  0.821971  0.702940 -2.434507\n",
              "2       0.799346  1.038003  1.035750 -0.685895\n",
              "3      -0.032899  0.354039  0.635932 -0.350589\n",
              "4      -0.259578 -0.584747  0.499165  1.447695\n",
              "...          ...       ...       ...       ...\n",
              "999995  1.043824  0.810522 -0.538627 -0.750818\n",
              "999996  0.718927 -0.742768 -1.876215 -0.239531\n",
              "999997 -1.231897 -0.411317  0.902101 -0.103540\n",
              "999998  0.657124 -0.946900  0.400424 -2.426221\n",
              "999999  0.603561 -0.720996  0.165720 -0.103938\n",
              "\n",
              "[1000000 rows x 4 columns]"
            ],
            "text/html": [
              "\n",
              "  <div id=\"df-2df16b39-8890-4d93-84ff-ce68eb8d1110\" class=\"colab-df-container\">\n",
              "    <div>\n",
              "<style scoped>\n",
              "    .dataframe tbody tr th:only-of-type {\n",
              "        vertical-align: middle;\n",
              "    }\n",
              "\n",
              "    .dataframe tbody tr th {\n",
              "        vertical-align: top;\n",
              "    }\n",
              "\n",
              "    .dataframe thead th {\n",
              "        text-align: right;\n",
              "    }\n",
              "</style>\n",
              "<table border=\"1\" class=\"dataframe\">\n",
              "  <thead>\n",
              "    <tr style=\"text-align: right;\">\n",
              "      <th></th>\n",
              "      <th>A</th>\n",
              "      <th>B</th>\n",
              "      <th>C</th>\n",
              "      <th>D</th>\n",
              "    </tr>\n",
              "  </thead>\n",
              "  <tbody>\n",
              "    <tr>\n",
              "      <th>0</th>\n",
              "      <td>-0.173538</td>\n",
              "      <td>-1.934072</td>\n",
              "      <td>0.557310</td>\n",
              "      <td>-1.971722</td>\n",
              "    </tr>\n",
              "    <tr>\n",
              "      <th>1</th>\n",
              "      <td>0.546098</td>\n",
              "      <td>0.821971</td>\n",
              "      <td>0.702940</td>\n",
              "      <td>-2.434507</td>\n",
              "    </tr>\n",
              "    <tr>\n",
              "      <th>2</th>\n",
              "      <td>0.799346</td>\n",
              "      <td>1.038003</td>\n",
              "      <td>1.035750</td>\n",
              "      <td>-0.685895</td>\n",
              "    </tr>\n",
              "    <tr>\n",
              "      <th>3</th>\n",
              "      <td>-0.032899</td>\n",
              "      <td>0.354039</td>\n",
              "      <td>0.635932</td>\n",
              "      <td>-0.350589</td>\n",
              "    </tr>\n",
              "    <tr>\n",
              "      <th>4</th>\n",
              "      <td>-0.259578</td>\n",
              "      <td>-0.584747</td>\n",
              "      <td>0.499165</td>\n",
              "      <td>1.447695</td>\n",
              "    </tr>\n",
              "    <tr>\n",
              "      <th>...</th>\n",
              "      <td>...</td>\n",
              "      <td>...</td>\n",
              "      <td>...</td>\n",
              "      <td>...</td>\n",
              "    </tr>\n",
              "    <tr>\n",
              "      <th>999995</th>\n",
              "      <td>1.043824</td>\n",
              "      <td>0.810522</td>\n",
              "      <td>-0.538627</td>\n",
              "      <td>-0.750818</td>\n",
              "    </tr>\n",
              "    <tr>\n",
              "      <th>999996</th>\n",
              "      <td>0.718927</td>\n",
              "      <td>-0.742768</td>\n",
              "      <td>-1.876215</td>\n",
              "      <td>-0.239531</td>\n",
              "    </tr>\n",
              "    <tr>\n",
              "      <th>999997</th>\n",
              "      <td>-1.231897</td>\n",
              "      <td>-0.411317</td>\n",
              "      <td>0.902101</td>\n",
              "      <td>-0.103540</td>\n",
              "    </tr>\n",
              "    <tr>\n",
              "      <th>999998</th>\n",
              "      <td>0.657124</td>\n",
              "      <td>-0.946900</td>\n",
              "      <td>0.400424</td>\n",
              "      <td>-2.426221</td>\n",
              "    </tr>\n",
              "    <tr>\n",
              "      <th>999999</th>\n",
              "      <td>0.603561</td>\n",
              "      <td>-0.720996</td>\n",
              "      <td>0.165720</td>\n",
              "      <td>-0.103938</td>\n",
              "    </tr>\n",
              "  </tbody>\n",
              "</table>\n",
              "<p>1000000 rows × 4 columns</p>\n",
              "</div>\n",
              "    <div class=\"colab-df-buttons\">\n",
              "\n",
              "  <div class=\"colab-df-container\">\n",
              "    <button class=\"colab-df-convert\" onclick=\"convertToInteractive('df-2df16b39-8890-4d93-84ff-ce68eb8d1110')\"\n",
              "            title=\"Convert this dataframe to an interactive table.\"\n",
              "            style=\"display:none;\">\n",
              "\n",
              "  <svg xmlns=\"http://www.w3.org/2000/svg\" height=\"24px\" viewBox=\"0 -960 960 960\">\n",
              "    <path d=\"M120-120v-720h720v720H120Zm60-500h600v-160H180v160Zm220 220h160v-160H400v160Zm0 220h160v-160H400v160ZM180-400h160v-160H180v160Zm440 0h160v-160H620v160ZM180-180h160v-160H180v160Zm440 0h160v-160H620v160Z\"/>\n",
              "  </svg>\n",
              "    </button>\n",
              "\n",
              "  <style>\n",
              "    .colab-df-container {\n",
              "      display:flex;\n",
              "      gap: 12px;\n",
              "    }\n",
              "\n",
              "    .colab-df-convert {\n",
              "      background-color: #E8F0FE;\n",
              "      border: none;\n",
              "      border-radius: 50%;\n",
              "      cursor: pointer;\n",
              "      display: none;\n",
              "      fill: #1967D2;\n",
              "      height: 32px;\n",
              "      padding: 0 0 0 0;\n",
              "      width: 32px;\n",
              "    }\n",
              "\n",
              "    .colab-df-convert:hover {\n",
              "      background-color: #E2EBFA;\n",
              "      box-shadow: 0px 1px 2px rgba(60, 64, 67, 0.3), 0px 1px 3px 1px rgba(60, 64, 67, 0.15);\n",
              "      fill: #174EA6;\n",
              "    }\n",
              "\n",
              "    .colab-df-buttons div {\n",
              "      margin-bottom: 4px;\n",
              "    }\n",
              "\n",
              "    [theme=dark] .colab-df-convert {\n",
              "      background-color: #3B4455;\n",
              "      fill: #D2E3FC;\n",
              "    }\n",
              "\n",
              "    [theme=dark] .colab-df-convert:hover {\n",
              "      background-color: #434B5C;\n",
              "      box-shadow: 0px 1px 3px 1px rgba(0, 0, 0, 0.15);\n",
              "      filter: drop-shadow(0px 1px 2px rgba(0, 0, 0, 0.3));\n",
              "      fill: #FFFFFF;\n",
              "    }\n",
              "  </style>\n",
              "\n",
              "    <script>\n",
              "      const buttonEl =\n",
              "        document.querySelector('#df-2df16b39-8890-4d93-84ff-ce68eb8d1110 button.colab-df-convert');\n",
              "      buttonEl.style.display =\n",
              "        google.colab.kernel.accessAllowed ? 'block' : 'none';\n",
              "\n",
              "      async function convertToInteractive(key) {\n",
              "        const element = document.querySelector('#df-2df16b39-8890-4d93-84ff-ce68eb8d1110');\n",
              "        const dataTable =\n",
              "          await google.colab.kernel.invokeFunction('convertToInteractive',\n",
              "                                                    [key], {});\n",
              "        if (!dataTable) return;\n",
              "\n",
              "        const docLinkHtml = 'Like what you see? Visit the ' +\n",
              "          '<a target=\"_blank\" href=https://colab.research.google.com/notebooks/data_table.ipynb>data table notebook</a>'\n",
              "          + ' to learn more about interactive tables.';\n",
              "        element.innerHTML = '';\n",
              "        dataTable['output_type'] = 'display_data';\n",
              "        await google.colab.output.renderOutput(dataTable, element);\n",
              "        const docLink = document.createElement('div');\n",
              "        docLink.innerHTML = docLinkHtml;\n",
              "        element.appendChild(docLink);\n",
              "      }\n",
              "    </script>\n",
              "  </div>\n",
              "\n",
              "\n",
              "<div id=\"df-4021a4b8-d347-489c-b7f2-dcae670d2812\">\n",
              "  <button class=\"colab-df-quickchart\" onclick=\"quickchart('df-4021a4b8-d347-489c-b7f2-dcae670d2812')\"\n",
              "            title=\"Suggest charts\"\n",
              "            style=\"display:none;\">\n",
              "\n",
              "<svg xmlns=\"http://www.w3.org/2000/svg\" height=\"24px\"viewBox=\"0 0 24 24\"\n",
              "     width=\"24px\">\n",
              "    <g>\n",
              "        <path d=\"M19 3H5c-1.1 0-2 .9-2 2v14c0 1.1.9 2 2 2h14c1.1 0 2-.9 2-2V5c0-1.1-.9-2-2-2zM9 17H7v-7h2v7zm4 0h-2V7h2v10zm4 0h-2v-4h2v4z\"/>\n",
              "    </g>\n",
              "</svg>\n",
              "  </button>\n",
              "\n",
              "<style>\n",
              "  .colab-df-quickchart {\n",
              "      --bg-color: #E8F0FE;\n",
              "      --fill-color: #1967D2;\n",
              "      --hover-bg-color: #E2EBFA;\n",
              "      --hover-fill-color: #174EA6;\n",
              "      --disabled-fill-color: #AAA;\n",
              "      --disabled-bg-color: #DDD;\n",
              "  }\n",
              "\n",
              "  [theme=dark] .colab-df-quickchart {\n",
              "      --bg-color: #3B4455;\n",
              "      --fill-color: #D2E3FC;\n",
              "      --hover-bg-color: #434B5C;\n",
              "      --hover-fill-color: #FFFFFF;\n",
              "      --disabled-bg-color: #3B4455;\n",
              "      --disabled-fill-color: #666;\n",
              "  }\n",
              "\n",
              "  .colab-df-quickchart {\n",
              "    background-color: var(--bg-color);\n",
              "    border: none;\n",
              "    border-radius: 50%;\n",
              "    cursor: pointer;\n",
              "    display: none;\n",
              "    fill: var(--fill-color);\n",
              "    height: 32px;\n",
              "    padding: 0;\n",
              "    width: 32px;\n",
              "  }\n",
              "\n",
              "  .colab-df-quickchart:hover {\n",
              "    background-color: var(--hover-bg-color);\n",
              "    box-shadow: 0 1px 2px rgba(60, 64, 67, 0.3), 0 1px 3px 1px rgba(60, 64, 67, 0.15);\n",
              "    fill: var(--button-hover-fill-color);\n",
              "  }\n",
              "\n",
              "  .colab-df-quickchart-complete:disabled,\n",
              "  .colab-df-quickchart-complete:disabled:hover {\n",
              "    background-color: var(--disabled-bg-color);\n",
              "    fill: var(--disabled-fill-color);\n",
              "    box-shadow: none;\n",
              "  }\n",
              "\n",
              "  .colab-df-spinner {\n",
              "    border: 2px solid var(--fill-color);\n",
              "    border-color: transparent;\n",
              "    border-bottom-color: var(--fill-color);\n",
              "    animation:\n",
              "      spin 1s steps(1) infinite;\n",
              "  }\n",
              "\n",
              "  @keyframes spin {\n",
              "    0% {\n",
              "      border-color: transparent;\n",
              "      border-bottom-color: var(--fill-color);\n",
              "      border-left-color: var(--fill-color);\n",
              "    }\n",
              "    20% {\n",
              "      border-color: transparent;\n",
              "      border-left-color: var(--fill-color);\n",
              "      border-top-color: var(--fill-color);\n",
              "    }\n",
              "    30% {\n",
              "      border-color: transparent;\n",
              "      border-left-color: var(--fill-color);\n",
              "      border-top-color: var(--fill-color);\n",
              "      border-right-color: var(--fill-color);\n",
              "    }\n",
              "    40% {\n",
              "      border-color: transparent;\n",
              "      border-right-color: var(--fill-color);\n",
              "      border-top-color: var(--fill-color);\n",
              "    }\n",
              "    60% {\n",
              "      border-color: transparent;\n",
              "      border-right-color: var(--fill-color);\n",
              "    }\n",
              "    80% {\n",
              "      border-color: transparent;\n",
              "      border-right-color: var(--fill-color);\n",
              "      border-bottom-color: var(--fill-color);\n",
              "    }\n",
              "    90% {\n",
              "      border-color: transparent;\n",
              "      border-bottom-color: var(--fill-color);\n",
              "    }\n",
              "  }\n",
              "</style>\n",
              "\n",
              "  <script>\n",
              "    async function quickchart(key) {\n",
              "      const quickchartButtonEl =\n",
              "        document.querySelector('#' + key + ' button');\n",
              "      quickchartButtonEl.disabled = true;  // To prevent multiple clicks.\n",
              "      quickchartButtonEl.classList.add('colab-df-spinner');\n",
              "      try {\n",
              "        const charts = await google.colab.kernel.invokeFunction(\n",
              "            'suggestCharts', [key], {});\n",
              "      } catch (error) {\n",
              "        console.error('Error during call to suggestCharts:', error);\n",
              "      }\n",
              "      quickchartButtonEl.classList.remove('colab-df-spinner');\n",
              "      quickchartButtonEl.classList.add('colab-df-quickchart-complete');\n",
              "    }\n",
              "    (() => {\n",
              "      let quickchartButtonEl =\n",
              "        document.querySelector('#df-4021a4b8-d347-489c-b7f2-dcae670d2812 button');\n",
              "      quickchartButtonEl.style.display =\n",
              "        google.colab.kernel.accessAllowed ? 'block' : 'none';\n",
              "    })();\n",
              "  </script>\n",
              "</div>\n",
              "\n",
              "  <div id=\"id_ff7f1226-f7ad-485f-881f-9771dc13790a\">\n",
              "    <style>\n",
              "      .colab-df-generate {\n",
              "        background-color: #E8F0FE;\n",
              "        border: none;\n",
              "        border-radius: 50%;\n",
              "        cursor: pointer;\n",
              "        display: none;\n",
              "        fill: #1967D2;\n",
              "        height: 32px;\n",
              "        padding: 0 0 0 0;\n",
              "        width: 32px;\n",
              "      }\n",
              "\n",
              "      .colab-df-generate:hover {\n",
              "        background-color: #E2EBFA;\n",
              "        box-shadow: 0px 1px 2px rgba(60, 64, 67, 0.3), 0px 1px 3px 1px rgba(60, 64, 67, 0.15);\n",
              "        fill: #174EA6;\n",
              "      }\n",
              "\n",
              "      [theme=dark] .colab-df-generate {\n",
              "        background-color: #3B4455;\n",
              "        fill: #D2E3FC;\n",
              "      }\n",
              "\n",
              "      [theme=dark] .colab-df-generate:hover {\n",
              "        background-color: #434B5C;\n",
              "        box-shadow: 0px 1px 3px 1px rgba(0, 0, 0, 0.15);\n",
              "        filter: drop-shadow(0px 1px 2px rgba(0, 0, 0, 0.3));\n",
              "        fill: #FFFFFF;\n",
              "      }\n",
              "    </style>\n",
              "    <button class=\"colab-df-generate\" onclick=\"generateWithVariable('df')\"\n",
              "            title=\"Generate code using this dataframe.\"\n",
              "            style=\"display:none;\">\n",
              "\n",
              "  <svg xmlns=\"http://www.w3.org/2000/svg\" height=\"24px\"viewBox=\"0 0 24 24\"\n",
              "       width=\"24px\">\n",
              "    <path d=\"M7,19H8.4L18.45,9,17,7.55,7,17.6ZM5,21V16.75L18.45,3.32a2,2,0,0,1,2.83,0l1.4,1.43a1.91,1.91,0,0,1,.58,1.4,1.91,1.91,0,0,1-.58,1.4L9.25,21ZM18.45,9,17,7.55Zm-12,3A5.31,5.31,0,0,0,4.9,8.1,5.31,5.31,0,0,0,1,6.5,5.31,5.31,0,0,0,4.9,4.9,5.31,5.31,0,0,0,6.5,1,5.31,5.31,0,0,0,8.1,4.9,5.31,5.31,0,0,0,12,6.5,5.46,5.46,0,0,0,6.5,12Z\"/>\n",
              "  </svg>\n",
              "    </button>\n",
              "    <script>\n",
              "      (() => {\n",
              "      const buttonEl =\n",
              "        document.querySelector('#id_ff7f1226-f7ad-485f-881f-9771dc13790a button.colab-df-generate');\n",
              "      buttonEl.style.display =\n",
              "        google.colab.kernel.accessAllowed ? 'block' : 'none';\n",
              "\n",
              "      buttonEl.onclick = () => {\n",
              "        google.colab.notebook.generateWithVariable('df');\n",
              "      }\n",
              "      })();\n",
              "    </script>\n",
              "  </div>\n",
              "\n",
              "    </div>\n",
              "  </div>\n"
            ],
            "application/vnd.google.colaboratory.intrinsic+json": {
              "type": "dataframe",
              "variable_name": "df"
            }
          },
          "metadata": {},
          "execution_count": 3
        }
      ]
    },
    {
      "cell_type": "code",
      "source": [],
      "metadata": {
        "id": "af9Jyvp1rv14"
      },
      "execution_count": null,
      "outputs": []
    },
    {
      "cell_type": "markdown",
      "source": [
        "shashaseheh\n",
        "\n",
        "\n",
        "```\n",
        "# This is formatted as code\n",
        "print('hello world\")\n",
        "```\n",
        "\n"
      ],
      "metadata": {
        "id": "gNxuBchDsluE"
      }
    },
    {
      "cell_type": "code",
      "source": [
        "import pandas as pd"
      ],
      "metadata": {
        "id": "TIj8FrofMHzN"
      },
      "execution_count": null,
      "outputs": []
    },
    {
      "cell_type": "code",
      "source": [
        "df = pd.read_csv('diabetes.csv')"
      ],
      "metadata": {
        "id": "9o6ysl13MJjC"
      },
      "execution_count": null,
      "outputs": []
    },
    {
      "cell_type": "code",
      "source": [
        "X = df.iloc[:-50,:-1]"
      ],
      "metadata": {
        "id": "Mk3aGZlQMhG4"
      },
      "execution_count": null,
      "outputs": []
    },
    {
      "cell_type": "code",
      "source": [
        "X"
      ],
      "metadata": {
        "colab": {
          "base_uri": "https://localhost:8080/",
          "height": 423
        },
        "id": "kvoTVwjdMoEp",
        "outputId": "9fb2f60c-658a-44e7-b69f-f9035ca5cef7"
      },
      "execution_count": null,
      "outputs": [
        {
          "output_type": "execute_result",
          "data": {
            "text/plain": [
              "     Pregnancies  Glucose  BloodPressure  SkinThickness  Insulin   BMI  \\\n",
              "0              6      148             72             35        0  33.6   \n",
              "1              1       85             66             29        0  26.6   \n",
              "2              8      183             64              0        0  23.3   \n",
              "3              1       89             66             23       94  28.1   \n",
              "4              0      137             40             35      168  43.1   \n",
              "..           ...      ...            ...            ...      ...   ...   \n",
              "713            0      134             58             20      291  26.4   \n",
              "714            3      102             74              0        0  29.5   \n",
              "715            7      187             50             33      392  33.9   \n",
              "716            3      173             78             39      185  33.8   \n",
              "717           10       94             72             18        0  23.1   \n",
              "\n",
              "     DiabetesPedigreeFunction  Age  \n",
              "0                       0.627   50  \n",
              "1                       0.351   31  \n",
              "2                       0.672   32  \n",
              "3                       0.167   21  \n",
              "4                       2.288   33  \n",
              "..                        ...  ...  \n",
              "713                     0.352   21  \n",
              "714                     0.121   32  \n",
              "715                     0.826   34  \n",
              "716                     0.970   31  \n",
              "717                     0.595   56  \n",
              "\n",
              "[718 rows x 8 columns]"
            ],
            "text/html": [
              "\n",
              "  <div id=\"df-c407d4fe-6e58-4c31-b3e9-4bacd96d438b\" class=\"colab-df-container\">\n",
              "    <div>\n",
              "<style scoped>\n",
              "    .dataframe tbody tr th:only-of-type {\n",
              "        vertical-align: middle;\n",
              "    }\n",
              "\n",
              "    .dataframe tbody tr th {\n",
              "        vertical-align: top;\n",
              "    }\n",
              "\n",
              "    .dataframe thead th {\n",
              "        text-align: right;\n",
              "    }\n",
              "</style>\n",
              "<table border=\"1\" class=\"dataframe\">\n",
              "  <thead>\n",
              "    <tr style=\"text-align: right;\">\n",
              "      <th></th>\n",
              "      <th>Pregnancies</th>\n",
              "      <th>Glucose</th>\n",
              "      <th>BloodPressure</th>\n",
              "      <th>SkinThickness</th>\n",
              "      <th>Insulin</th>\n",
              "      <th>BMI</th>\n",
              "      <th>DiabetesPedigreeFunction</th>\n",
              "      <th>Age</th>\n",
              "    </tr>\n",
              "  </thead>\n",
              "  <tbody>\n",
              "    <tr>\n",
              "      <th>0</th>\n",
              "      <td>6</td>\n",
              "      <td>148</td>\n",
              "      <td>72</td>\n",
              "      <td>35</td>\n",
              "      <td>0</td>\n",
              "      <td>33.6</td>\n",
              "      <td>0.627</td>\n",
              "      <td>50</td>\n",
              "    </tr>\n",
              "    <tr>\n",
              "      <th>1</th>\n",
              "      <td>1</td>\n",
              "      <td>85</td>\n",
              "      <td>66</td>\n",
              "      <td>29</td>\n",
              "      <td>0</td>\n",
              "      <td>26.6</td>\n",
              "      <td>0.351</td>\n",
              "      <td>31</td>\n",
              "    </tr>\n",
              "    <tr>\n",
              "      <th>2</th>\n",
              "      <td>8</td>\n",
              "      <td>183</td>\n",
              "      <td>64</td>\n",
              "      <td>0</td>\n",
              "      <td>0</td>\n",
              "      <td>23.3</td>\n",
              "      <td>0.672</td>\n",
              "      <td>32</td>\n",
              "    </tr>\n",
              "    <tr>\n",
              "      <th>3</th>\n",
              "      <td>1</td>\n",
              "      <td>89</td>\n",
              "      <td>66</td>\n",
              "      <td>23</td>\n",
              "      <td>94</td>\n",
              "      <td>28.1</td>\n",
              "      <td>0.167</td>\n",
              "      <td>21</td>\n",
              "    </tr>\n",
              "    <tr>\n",
              "      <th>4</th>\n",
              "      <td>0</td>\n",
              "      <td>137</td>\n",
              "      <td>40</td>\n",
              "      <td>35</td>\n",
              "      <td>168</td>\n",
              "      <td>43.1</td>\n",
              "      <td>2.288</td>\n",
              "      <td>33</td>\n",
              "    </tr>\n",
              "    <tr>\n",
              "      <th>...</th>\n",
              "      <td>...</td>\n",
              "      <td>...</td>\n",
              "      <td>...</td>\n",
              "      <td>...</td>\n",
              "      <td>...</td>\n",
              "      <td>...</td>\n",
              "      <td>...</td>\n",
              "      <td>...</td>\n",
              "    </tr>\n",
              "    <tr>\n",
              "      <th>713</th>\n",
              "      <td>0</td>\n",
              "      <td>134</td>\n",
              "      <td>58</td>\n",
              "      <td>20</td>\n",
              "      <td>291</td>\n",
              "      <td>26.4</td>\n",
              "      <td>0.352</td>\n",
              "      <td>21</td>\n",
              "    </tr>\n",
              "    <tr>\n",
              "      <th>714</th>\n",
              "      <td>3</td>\n",
              "      <td>102</td>\n",
              "      <td>74</td>\n",
              "      <td>0</td>\n",
              "      <td>0</td>\n",
              "      <td>29.5</td>\n",
              "      <td>0.121</td>\n",
              "      <td>32</td>\n",
              "    </tr>\n",
              "    <tr>\n",
              "      <th>715</th>\n",
              "      <td>7</td>\n",
              "      <td>187</td>\n",
              "      <td>50</td>\n",
              "      <td>33</td>\n",
              "      <td>392</td>\n",
              "      <td>33.9</td>\n",
              "      <td>0.826</td>\n",
              "      <td>34</td>\n",
              "    </tr>\n",
              "    <tr>\n",
              "      <th>716</th>\n",
              "      <td>3</td>\n",
              "      <td>173</td>\n",
              "      <td>78</td>\n",
              "      <td>39</td>\n",
              "      <td>185</td>\n",
              "      <td>33.8</td>\n",
              "      <td>0.970</td>\n",
              "      <td>31</td>\n",
              "    </tr>\n",
              "    <tr>\n",
              "      <th>717</th>\n",
              "      <td>10</td>\n",
              "      <td>94</td>\n",
              "      <td>72</td>\n",
              "      <td>18</td>\n",
              "      <td>0</td>\n",
              "      <td>23.1</td>\n",
              "      <td>0.595</td>\n",
              "      <td>56</td>\n",
              "    </tr>\n",
              "  </tbody>\n",
              "</table>\n",
              "<p>718 rows × 8 columns</p>\n",
              "</div>\n",
              "    <div class=\"colab-df-buttons\">\n",
              "\n",
              "  <div class=\"colab-df-container\">\n",
              "    <button class=\"colab-df-convert\" onclick=\"convertToInteractive('df-c407d4fe-6e58-4c31-b3e9-4bacd96d438b')\"\n",
              "            title=\"Convert this dataframe to an interactive table.\"\n",
              "            style=\"display:none;\">\n",
              "\n",
              "  <svg xmlns=\"http://www.w3.org/2000/svg\" height=\"24px\" viewBox=\"0 -960 960 960\">\n",
              "    <path d=\"M120-120v-720h720v720H120Zm60-500h600v-160H180v160Zm220 220h160v-160H400v160Zm0 220h160v-160H400v160ZM180-400h160v-160H180v160Zm440 0h160v-160H620v160ZM180-180h160v-160H180v160Zm440 0h160v-160H620v160Z\"/>\n",
              "  </svg>\n",
              "    </button>\n",
              "\n",
              "  <style>\n",
              "    .colab-df-container {\n",
              "      display:flex;\n",
              "      gap: 12px;\n",
              "    }\n",
              "\n",
              "    .colab-df-convert {\n",
              "      background-color: #E8F0FE;\n",
              "      border: none;\n",
              "      border-radius: 50%;\n",
              "      cursor: pointer;\n",
              "      display: none;\n",
              "      fill: #1967D2;\n",
              "      height: 32px;\n",
              "      padding: 0 0 0 0;\n",
              "      width: 32px;\n",
              "    }\n",
              "\n",
              "    .colab-df-convert:hover {\n",
              "      background-color: #E2EBFA;\n",
              "      box-shadow: 0px 1px 2px rgba(60, 64, 67, 0.3), 0px 1px 3px 1px rgba(60, 64, 67, 0.15);\n",
              "      fill: #174EA6;\n",
              "    }\n",
              "\n",
              "    .colab-df-buttons div {\n",
              "      margin-bottom: 4px;\n",
              "    }\n",
              "\n",
              "    [theme=dark] .colab-df-convert {\n",
              "      background-color: #3B4455;\n",
              "      fill: #D2E3FC;\n",
              "    }\n",
              "\n",
              "    [theme=dark] .colab-df-convert:hover {\n",
              "      background-color: #434B5C;\n",
              "      box-shadow: 0px 1px 3px 1px rgba(0, 0, 0, 0.15);\n",
              "      filter: drop-shadow(0px 1px 2px rgba(0, 0, 0, 0.3));\n",
              "      fill: #FFFFFF;\n",
              "    }\n",
              "  </style>\n",
              "\n",
              "    <script>\n",
              "      const buttonEl =\n",
              "        document.querySelector('#df-c407d4fe-6e58-4c31-b3e9-4bacd96d438b button.colab-df-convert');\n",
              "      buttonEl.style.display =\n",
              "        google.colab.kernel.accessAllowed ? 'block' : 'none';\n",
              "\n",
              "      async function convertToInteractive(key) {\n",
              "        const element = document.querySelector('#df-c407d4fe-6e58-4c31-b3e9-4bacd96d438b');\n",
              "        const dataTable =\n",
              "          await google.colab.kernel.invokeFunction('convertToInteractive',\n",
              "                                                    [key], {});\n",
              "        if (!dataTable) return;\n",
              "\n",
              "        const docLinkHtml = 'Like what you see? Visit the ' +\n",
              "          '<a target=\"_blank\" href=https://colab.research.google.com/notebooks/data_table.ipynb>data table notebook</a>'\n",
              "          + ' to learn more about interactive tables.';\n",
              "        element.innerHTML = '';\n",
              "        dataTable['output_type'] = 'display_data';\n",
              "        await google.colab.output.renderOutput(dataTable, element);\n",
              "        const docLink = document.createElement('div');\n",
              "        docLink.innerHTML = docLinkHtml;\n",
              "        element.appendChild(docLink);\n",
              "      }\n",
              "    </script>\n",
              "  </div>\n",
              "\n",
              "\n",
              "<div id=\"df-acb44b0e-2670-4a01-8390-746a0c940fcb\">\n",
              "  <button class=\"colab-df-quickchart\" onclick=\"quickchart('df-acb44b0e-2670-4a01-8390-746a0c940fcb')\"\n",
              "            title=\"Suggest charts\"\n",
              "            style=\"display:none;\">\n",
              "\n",
              "<svg xmlns=\"http://www.w3.org/2000/svg\" height=\"24px\"viewBox=\"0 0 24 24\"\n",
              "     width=\"24px\">\n",
              "    <g>\n",
              "        <path d=\"M19 3H5c-1.1 0-2 .9-2 2v14c0 1.1.9 2 2 2h14c1.1 0 2-.9 2-2V5c0-1.1-.9-2-2-2zM9 17H7v-7h2v7zm4 0h-2V7h2v10zm4 0h-2v-4h2v4z\"/>\n",
              "    </g>\n",
              "</svg>\n",
              "  </button>\n",
              "\n",
              "<style>\n",
              "  .colab-df-quickchart {\n",
              "      --bg-color: #E8F0FE;\n",
              "      --fill-color: #1967D2;\n",
              "      --hover-bg-color: #E2EBFA;\n",
              "      --hover-fill-color: #174EA6;\n",
              "      --disabled-fill-color: #AAA;\n",
              "      --disabled-bg-color: #DDD;\n",
              "  }\n",
              "\n",
              "  [theme=dark] .colab-df-quickchart {\n",
              "      --bg-color: #3B4455;\n",
              "      --fill-color: #D2E3FC;\n",
              "      --hover-bg-color: #434B5C;\n",
              "      --hover-fill-color: #FFFFFF;\n",
              "      --disabled-bg-color: #3B4455;\n",
              "      --disabled-fill-color: #666;\n",
              "  }\n",
              "\n",
              "  .colab-df-quickchart {\n",
              "    background-color: var(--bg-color);\n",
              "    border: none;\n",
              "    border-radius: 50%;\n",
              "    cursor: pointer;\n",
              "    display: none;\n",
              "    fill: var(--fill-color);\n",
              "    height: 32px;\n",
              "    padding: 0;\n",
              "    width: 32px;\n",
              "  }\n",
              "\n",
              "  .colab-df-quickchart:hover {\n",
              "    background-color: var(--hover-bg-color);\n",
              "    box-shadow: 0 1px 2px rgba(60, 64, 67, 0.3), 0 1px 3px 1px rgba(60, 64, 67, 0.15);\n",
              "    fill: var(--button-hover-fill-color);\n",
              "  }\n",
              "\n",
              "  .colab-df-quickchart-complete:disabled,\n",
              "  .colab-df-quickchart-complete:disabled:hover {\n",
              "    background-color: var(--disabled-bg-color);\n",
              "    fill: var(--disabled-fill-color);\n",
              "    box-shadow: none;\n",
              "  }\n",
              "\n",
              "  .colab-df-spinner {\n",
              "    border: 2px solid var(--fill-color);\n",
              "    border-color: transparent;\n",
              "    border-bottom-color: var(--fill-color);\n",
              "    animation:\n",
              "      spin 1s steps(1) infinite;\n",
              "  }\n",
              "\n",
              "  @keyframes spin {\n",
              "    0% {\n",
              "      border-color: transparent;\n",
              "      border-bottom-color: var(--fill-color);\n",
              "      border-left-color: var(--fill-color);\n",
              "    }\n",
              "    20% {\n",
              "      border-color: transparent;\n",
              "      border-left-color: var(--fill-color);\n",
              "      border-top-color: var(--fill-color);\n",
              "    }\n",
              "    30% {\n",
              "      border-color: transparent;\n",
              "      border-left-color: var(--fill-color);\n",
              "      border-top-color: var(--fill-color);\n",
              "      border-right-color: var(--fill-color);\n",
              "    }\n",
              "    40% {\n",
              "      border-color: transparent;\n",
              "      border-right-color: var(--fill-color);\n",
              "      border-top-color: var(--fill-color);\n",
              "    }\n",
              "    60% {\n",
              "      border-color: transparent;\n",
              "      border-right-color: var(--fill-color);\n",
              "    }\n",
              "    80% {\n",
              "      border-color: transparent;\n",
              "      border-right-color: var(--fill-color);\n",
              "      border-bottom-color: var(--fill-color);\n",
              "    }\n",
              "    90% {\n",
              "      border-color: transparent;\n",
              "      border-bottom-color: var(--fill-color);\n",
              "    }\n",
              "  }\n",
              "</style>\n",
              "\n",
              "  <script>\n",
              "    async function quickchart(key) {\n",
              "      const quickchartButtonEl =\n",
              "        document.querySelector('#' + key + ' button');\n",
              "      quickchartButtonEl.disabled = true;  // To prevent multiple clicks.\n",
              "      quickchartButtonEl.classList.add('colab-df-spinner');\n",
              "      try {\n",
              "        const charts = await google.colab.kernel.invokeFunction(\n",
              "            'suggestCharts', [key], {});\n",
              "      } catch (error) {\n",
              "        console.error('Error during call to suggestCharts:', error);\n",
              "      }\n",
              "      quickchartButtonEl.classList.remove('colab-df-spinner');\n",
              "      quickchartButtonEl.classList.add('colab-df-quickchart-complete');\n",
              "    }\n",
              "    (() => {\n",
              "      let quickchartButtonEl =\n",
              "        document.querySelector('#df-acb44b0e-2670-4a01-8390-746a0c940fcb button');\n",
              "      quickchartButtonEl.style.display =\n",
              "        google.colab.kernel.accessAllowed ? 'block' : 'none';\n",
              "    })();\n",
              "  </script>\n",
              "</div>\n",
              "\n",
              "  <div id=\"id_3b563377-7207-49ac-9406-21db565d3bfe\">\n",
              "    <style>\n",
              "      .colab-df-generate {\n",
              "        background-color: #E8F0FE;\n",
              "        border: none;\n",
              "        border-radius: 50%;\n",
              "        cursor: pointer;\n",
              "        display: none;\n",
              "        fill: #1967D2;\n",
              "        height: 32px;\n",
              "        padding: 0 0 0 0;\n",
              "        width: 32px;\n",
              "      }\n",
              "\n",
              "      .colab-df-generate:hover {\n",
              "        background-color: #E2EBFA;\n",
              "        box-shadow: 0px 1px 2px rgba(60, 64, 67, 0.3), 0px 1px 3px 1px rgba(60, 64, 67, 0.15);\n",
              "        fill: #174EA6;\n",
              "      }\n",
              "\n",
              "      [theme=dark] .colab-df-generate {\n",
              "        background-color: #3B4455;\n",
              "        fill: #D2E3FC;\n",
              "      }\n",
              "\n",
              "      [theme=dark] .colab-df-generate:hover {\n",
              "        background-color: #434B5C;\n",
              "        box-shadow: 0px 1px 3px 1px rgba(0, 0, 0, 0.15);\n",
              "        filter: drop-shadow(0px 1px 2px rgba(0, 0, 0, 0.3));\n",
              "        fill: #FFFFFF;\n",
              "      }\n",
              "    </style>\n",
              "    <button class=\"colab-df-generate\" onclick=\"generateWithVariable('X')\"\n",
              "            title=\"Generate code using this dataframe.\"\n",
              "            style=\"display:none;\">\n",
              "\n",
              "  <svg xmlns=\"http://www.w3.org/2000/svg\" height=\"24px\"viewBox=\"0 0 24 24\"\n",
              "       width=\"24px\">\n",
              "    <path d=\"M7,19H8.4L18.45,9,17,7.55,7,17.6ZM5,21V16.75L18.45,3.32a2,2,0,0,1,2.83,0l1.4,1.43a1.91,1.91,0,0,1,.58,1.4,1.91,1.91,0,0,1-.58,1.4L9.25,21ZM18.45,9,17,7.55Zm-12,3A5.31,5.31,0,0,0,4.9,8.1,5.31,5.31,0,0,0,1,6.5,5.31,5.31,0,0,0,4.9,4.9,5.31,5.31,0,0,0,6.5,1,5.31,5.31,0,0,0,8.1,4.9,5.31,5.31,0,0,0,12,6.5,5.46,5.46,0,0,0,6.5,12Z\"/>\n",
              "  </svg>\n",
              "    </button>\n",
              "    <script>\n",
              "      (() => {\n",
              "      const buttonEl =\n",
              "        document.querySelector('#id_3b563377-7207-49ac-9406-21db565d3bfe button.colab-df-generate');\n",
              "      buttonEl.style.display =\n",
              "        google.colab.kernel.accessAllowed ? 'block' : 'none';\n",
              "\n",
              "      buttonEl.onclick = () => {\n",
              "        google.colab.notebook.generateWithVariable('X');\n",
              "      }\n",
              "      })();\n",
              "    </script>\n",
              "  </div>\n",
              "\n",
              "    </div>\n",
              "  </div>\n"
            ],
            "application/vnd.google.colaboratory.intrinsic+json": {
              "type": "dataframe",
              "variable_name": "X",
              "summary": "{\n  \"name\": \"X\",\n  \"rows\": 718,\n  \"fields\": [\n    {\n      \"column\": \"Pregnancies\",\n      \"properties\": {\n        \"dtype\": \"number\",\n        \"std\": 3,\n        \"min\": 0,\n        \"max\": 17,\n        \"num_unique_values\": 17,\n        \"samples\": [\n          6,\n          1,\n          3\n        ],\n        \"semantic_type\": \"\",\n        \"description\": \"\"\n      }\n    },\n    {\n      \"column\": \"Glucose\",\n      \"properties\": {\n        \"dtype\": \"number\",\n        \"std\": 32,\n        \"min\": 0,\n        \"max\": 199,\n        \"num_unique_values\": 133,\n        \"samples\": [\n          44,\n          142,\n          92\n        ],\n        \"semantic_type\": \"\",\n        \"description\": \"\"\n      }\n    },\n    {\n      \"column\": \"BloodPressure\",\n      \"properties\": {\n        \"dtype\": \"number\",\n        \"std\": 19,\n        \"min\": 0,\n        \"max\": 122,\n        \"num_unique_values\": 47,\n        \"samples\": [\n          86,\n          46,\n          85\n        ],\n        \"semantic_type\": \"\",\n        \"description\": \"\"\n      }\n    },\n    {\n      \"column\": \"SkinThickness\",\n      \"properties\": {\n        \"dtype\": \"number\",\n        \"std\": 15,\n        \"min\": 0,\n        \"max\": 99,\n        \"num_unique_values\": 51,\n        \"samples\": [\n          7,\n          12,\n          48\n        ],\n        \"semantic_type\": \"\",\n        \"description\": \"\"\n      }\n    },\n    {\n      \"column\": \"Insulin\",\n      \"properties\": {\n        \"dtype\": \"number\",\n        \"std\": 116,\n        \"min\": 0,\n        \"max\": 846,\n        \"num_unique_values\": 181,\n        \"samples\": [\n          70,\n          152,\n          188\n        ],\n        \"semantic_type\": \"\",\n        \"description\": \"\"\n      }\n    },\n    {\n      \"column\": \"BMI\",\n      \"properties\": {\n        \"dtype\": \"number\",\n        \"std\": 7.97618963980606,\n        \"min\": 0.0,\n        \"max\": 67.1,\n        \"num_unique_values\": 246,\n        \"samples\": [\n          19.9,\n          31.0,\n          19.3\n        ],\n        \"semantic_type\": \"\",\n        \"description\": \"\"\n      }\n    },\n    {\n      \"column\": \"DiabetesPedigreeFunction\",\n      \"properties\": {\n        \"dtype\": \"number\",\n        \"std\": 0.33576222900685015,\n        \"min\": 0.078,\n        \"max\": 2.42,\n        \"num_unique_values\": 498,\n        \"samples\": [\n          0.483,\n          0.37,\n          0.2\n        ],\n        \"semantic_type\": \"\",\n        \"description\": \"\"\n      }\n    },\n    {\n      \"column\": \"Age\",\n      \"properties\": {\n        \"dtype\": \"number\",\n        \"std\": 11,\n        \"min\": 21,\n        \"max\": 81,\n        \"num_unique_values\": 52,\n        \"samples\": [\n          60,\n          47,\n          72\n        ],\n        \"semantic_type\": \"\",\n        \"description\": \"\"\n      }\n    }\n  ]\n}"
            }
          },
          "metadata": {},
          "execution_count": 7
        }
      ]
    },
    {
      "cell_type": "code",
      "source": [
        "X = X[:].values\n",
        "\n",
        "\n",
        "X.shape\n",
        "\n"
      ],
      "metadata": {
        "colab": {
          "base_uri": "https://localhost:8080/"
        },
        "id": "_HWavaylNQAg",
        "outputId": "e6ff77b8-898e-40fe-ac9f-904a4f0071c9"
      },
      "execution_count": null,
      "outputs": [
        {
          "output_type": "execute_result",
          "data": {
            "text/plain": [
              "(718, 8)"
            ]
          },
          "metadata": {},
          "execution_count": 8
        }
      ]
    },
    {
      "cell_type": "code",
      "source": [
        "y = df.iloc[:-50,-1]"
      ],
      "metadata": {
        "id": "zBCgFsP2NYew"
      },
      "execution_count": null,
      "outputs": []
    },
    {
      "cell_type": "code",
      "source": [
        "y"
      ],
      "metadata": {
        "colab": {
          "base_uri": "https://localhost:8080/"
        },
        "id": "MIO8dkNvNLSD",
        "outputId": "2eace0d1-e6fa-41d0-d680-d7f86f0bbce3"
      },
      "execution_count": null,
      "outputs": [
        {
          "output_type": "execute_result",
          "data": {
            "text/plain": [
              "0      1\n",
              "1      0\n",
              "2      1\n",
              "3      0\n",
              "4      1\n",
              "      ..\n",
              "713    0\n",
              "714    0\n",
              "715    1\n",
              "716    1\n",
              "717    0\n",
              "Name: Outcome, Length: 718, dtype: int64"
            ]
          },
          "metadata": {},
          "execution_count": 10
        }
      ]
    },
    {
      "cell_type": "code",
      "source": [
        "y = y[:].values\n",
        "y.shape\n",
        "\n"
      ],
      "metadata": {
        "colab": {
          "base_uri": "https://localhost:8080/"
        },
        "outputId": "023352ec-7665-4f89-fa2c-993f92ce9a4b",
        "id": "5E_JkwtVN1T3"
      },
      "execution_count": null,
      "outputs": [
        {
          "output_type": "execute_result",
          "data": {
            "text/plain": [
              "(718,)"
            ]
          },
          "metadata": {},
          "execution_count": 11
        }
      ]
    },
    {
      "cell_type": "code",
      "source": [
        "y = y.reshape((718, 1))"
      ],
      "metadata": {
        "id": "AhbMDZKbQ9Rk"
      },
      "execution_count": null,
      "outputs": []
    },
    {
      "cell_type": "code",
      "source": [
        "len(df.columns)\n"
      ],
      "metadata": {
        "colab": {
          "base_uri": "https://localhost:8080/"
        },
        "id": "JTibiEOmzQNt",
        "outputId": "3cf89123-8298-4b0a-a3bb-217daefc1a56"
      },
      "execution_count": null,
      "outputs": [
        {
          "output_type": "execute_result",
          "data": {
            "text/plain": [
              "785"
            ]
          },
          "metadata": {},
          "execution_count": 79
        }
      ]
    },
    {
      "cell_type": "code",
      "source": [
        "import numpy as np\n",
        "\n",
        "weights_input_hidden1 = np.random.randn(X.shape[1],16)*0.1\n",
        "\n",
        "bias_hidden1 = np.ones(shape=(1,16))\n",
        "\n",
        "weights_hidden1_hidden2 = np.random.randn(16,32)*0.1\n",
        "\n",
        "bias_hidden2 = np.ones(shape=(1,32))\n",
        "\n",
        "weights_hidden2_output = np.random.randn(32,1)*0.1\n",
        "\n",
        "bias_output = np.array([[0.1]])\n",
        "\n",
        "learning_rate = 0.01\n",
        "\n",
        "def sigmoid(x):\n",
        "    return 1 / (1 + np.exp(-x))\n",
        "\n",
        "def sigmoid_derivative(x):\n",
        "    return x * (1 - x)\n",
        "\n",
        "def loss_function(predicted, actual):\n",
        "    return -np.mean(actual * np.log(predicted) + (1 - actual) * np.log(1 - predicted))\n",
        "\n",
        "def relu(x):\n",
        "    return np.maximum(0, x)\n",
        "\n",
        "def relu_derivative(x):\n",
        "    return np.where(x > 0, 1, 0)\n",
        "\n",
        "\n",
        "\n",
        "for epoch in range(10):\n",
        "# Forward pass\n",
        "  hidden1_input = np.dot(X, weights_input_hidden1) + bias_hidden1\n",
        "  #print('the hidden one input is',hidden1_input, hidden1_input.shape)\n",
        "  hidden1_output = relu(hidden1_input)\n",
        "  #print('the hidden one output is',hidden1_output, hidden1_output.shape)\n",
        "\n",
        "  hidden2_input = np.dot(hidden1_output, weights_hidden1_hidden2) + bias_hidden2\n",
        "  #print('the hidden two input is',hidden2_input, hidden2_input.shape)\n",
        "  hidden2_output = relu(hidden2_input)\n",
        "  #print('the hidden two output is',hidden2_output, hidden2_output.shape)\n",
        "\n",
        "  output_input = np.dot(hidden2_output, weights_hidden2_output) + bias_output\n",
        "  #print('the output layer input is', output_input, output_input.shape)\n",
        "  predicted_output = sigmoid(output_input)\n",
        "  #print('the output predicted is', predicted_output, predicted_output.shape)\n",
        "\n",
        "  loss = loss_function(predicted_output, y)\n",
        "  #if epoch % 10 == 0:  # Print loss every 10 epochs\n",
        "  print(f'Epoch {epoch+1}, Loss: {loss}')\n",
        "\n",
        "  # Backward pass\n",
        "  output_error = predicted_output-y\n",
        "  #print('the output error is',output_error, output_error.shape)\n",
        "  output_delta = output_error * sigmoid_derivative(predicted_output)\n",
        "  #print('the output delta is', output_delta, output_delta.shape)\n",
        "\n",
        "  hidden2_error = np.dot(output_delta, weights_hidden2_output.T)\n",
        "  #print('the hidden two error is', hidden2_error, hidden2_error.shape)\n",
        "  hidden2_delta = hidden2_error * relu_derivative(hidden2_output)\n",
        "  #print('the hidden two delta is', hidden2_delta, hidden2_delta.shape)\n",
        "\n",
        "  hidden1_error = np.dot(hidden2_delta, weights_hidden1_hidden2.T)\n",
        "  #print('the hidden one error is', hidden1_error, hidden1_error.shape)\n",
        "  hidden1_delta = hidden1_error * relu_derivative(hidden1_output)\n",
        "  #print('the hidden one delta is', hidden1_delta, hidden1_delta.shape)\n",
        "\n",
        "  # Update weights and biases\n",
        "  #print('the weights from hidden2 to output before update is ', weights_hidden2_output)\n",
        "  weights_hidden2_output += np.dot(hidden2_output.T, output_delta) * learning_rate\n",
        "  #print('the weights from hidden2 to output after update is ', weights_hidden2_output)\n",
        "  bias_output += np.sum(output_delta, axis=0, keepdims=True) * learning_rate\n",
        "  #print('the output bias values are', bias_output)\n",
        "\n",
        "  #print('weights_hidden1_hidden2 before being are', weights_hidden1_hidden2)\n",
        "  weights_hidden1_hidden2 += np.dot(hidden1_output.T, hidden2_delta) * learning_rate\n",
        "  #print('weights_hidden1_hidden2 being updated are', weights_hidden1_hidden2)\n",
        "  bias_hidden2 += np.sum(hidden2_delta, axis=0, keepdims=True) * learning_rate\n",
        "  #print('the hidden2 bias values are', bias_hidden2)\n",
        "\n",
        "  #print('weights_input_hidden1 before updated are', weights_input_hidden1)\n",
        "  weights_input_hidden1 += np.dot(X.T, hidden1_delta) * learning_rate\n",
        "  #print('weights_input_hidden1 after being updated are', weights_input_hidden1)\n",
        "  bias_hidden1 += np.sum(hidden1_delta, axis=0, keepdims=True) * learning_rate\n",
        "  #print('the hidden1 bias values are', bias_hidden1)\n",
        "\n",
        "\n",
        "\n",
        "print(\"Updated weights and biases after one epoch:\")\n",
        "print(\"weights_input_hidden1:\", weights_input_hidden1)\n",
        "print(\"bias_hidden1:\", bias_hidden1)\n",
        "print(\"weights_hidden1_hidden2:\", weights_hidden1_hidden2)\n",
        "print(\"bias_hidden2:\", bias_hidden2)\n",
        "print(\"weights_hidden2_output:\", weights_hidden2_output)\n",
        "print(\"bias_output:\", bias_output)\n"
      ],
      "metadata": {
        "id": "GPzuM4Q0snaM",
        "colab": {
          "base_uri": "https://localhost:8080/"
        },
        "outputId": "d5a14bcb-f69d-463d-eebf-1557a80926f5"
      },
      "execution_count": null,
      "outputs": [
        {
          "output_type": "stream",
          "name": "stdout",
          "text": [
            "Epoch 1, Loss: 1.5658783990957856\n",
            "Epoch 2, Loss: nan\n",
            "Epoch 3, Loss: nan\n",
            "Epoch 4, Loss: nan\n",
            "Epoch 5, Loss: nan\n",
            "Epoch 6, Loss: nan\n",
            "Epoch 7, Loss: nan\n",
            "Epoch 8, Loss: nan\n",
            "Epoch 9, Loss: nan\n",
            "Epoch 10, Loss: nan\n",
            "Updated weights and biases after one epoch:\n",
            "weights_input_hidden1: [[ 0.08997508  0.02985304 -0.18272255 -0.0312658   0.02798204 -0.06923455\n",
            "   0.0737502   0.01477099 -0.17304814  0.08983972 -0.2318308  -0.05324246\n",
            "   0.03801987  0.09311877 -0.19163315  0.03758341]\n",
            " [ 0.10040667 -1.09684715  0.38670621  0.13791548 -0.14443397 -0.15046804\n",
            "   0.40905617  0.35160951 -0.89129755 -0.02184477  0.37628705 -0.17817813\n",
            "  -0.24296967 -0.88693737 -0.73129018 -0.23124918]\n",
            " [ 0.27859754 -0.66316772  0.4049454   0.14764388  0.00847336 -0.04991218\n",
            "   0.60217587  0.20852862 -0.58415162  0.24291168  0.30663771  0.11057997\n",
            "  -0.1175899  -0.43270034 -0.46060407  0.0730286 ]\n",
            " [ 0.07955701 -0.14715376 -0.15238598  0.33636129  0.05144439 -0.10745894\n",
            "  -0.19778839  0.09723429 -0.13416173 -0.12425467  0.09924785 -0.07186418\n",
            "  -0.05910125 -0.22178705 -0.1567907  -0.20928149]\n",
            " [-0.09848585 -0.55794418 -0.13897923 -0.10964898 -0.01315647  0.0049809\n",
            "  -0.22407183  0.00989592 -0.44870284  0.19080605  0.19151845 -0.05524628\n",
            "   0.03302836 -0.40842626 -0.35027168  0.00528437]\n",
            " [ 0.14941037 -0.39972514  0.11847837  0.30921067 -0.14809732  0.03932748\n",
            "   0.17407003  0.17800438 -0.15170195  0.1011048  -0.14416531  0.11133307\n",
            "  -0.15589165 -0.30074128 -0.33272763 -0.30730217]\n",
            " [-0.07178459  0.02400138 -0.12427222  0.094951    0.0700965  -0.11094352\n",
            "   0.00228136 -0.09082976  0.09168845  0.29935608 -0.12455996  0.13504632\n",
            "   0.05113681  0.03982513 -0.20036254 -0.12867018]\n",
            " [-0.01944929 -0.45801957  0.00984952  0.10941128  0.03801116  0.08594616\n",
            "   0.11694017  0.12473205 -0.12585023 -0.05577356  0.14208754 -0.1445582\n",
            "  -0.22351333 -0.28152947 -0.22756346 -0.01589638]]\n",
            "bias_hidden1: [[1.00209132 0.98758028 1.00406297 1.0025886  1.         1.\n",
            "  1.00485083 1.00302845 0.99064078 1.0001509  1.0025747  1.00005182\n",
            "  0.99673909 0.99151594 0.99217379 1.        ]]\n",
            "weights_hidden1_hidden2: [[ 7.80467852e-02 -7.54993513e-03  4.06152121e-02  1.33573990e-03\n",
            "  -8.48311146e-03 -3.66517960e-02  1.59738056e-01  2.36980282e-02\n",
            "  -6.22900449e-02 -8.88213462e-03  5.26715853e-02  1.02764923e-01\n",
            "  -3.59366536e-03 -1.54766857e-01 -4.24226402e-02  3.44410082e-02\n",
            "   1.05681952e-02 -1.93330614e-01 -8.62093512e-02 -1.20930841e-01\n",
            "  -4.28640280e-02 -8.49006602e-02 -7.46391839e-02  7.62873839e-02\n",
            "   1.24366751e-01 -3.56480793e-02 -7.17734333e-02 -9.83366832e-03\n",
            "   4.85345892e-02 -1.29603792e-01  1.18910087e-01  1.03140974e-01]\n",
            " [ 8.98139899e-01 -9.40940689e-01  3.62535824e-01 -1.89122039e-01\n",
            "   3.01480488e-03  1.83236107e-01  1.20643340e+00 -6.45909535e-02\n",
            "   1.76078667e-01 -1.59213164e-01  7.09197639e-02  1.12916775e+00\n",
            "  -7.38676124e-01 -1.52305424e-01  4.85063018e-01 -1.44045044e+00\n",
            "  -8.58745402e-02  3.37842860e-03  2.24381612e-05 -1.18608208e-01\n",
            "  -1.17785081e-01 -2.24052016e+00 -1.50644848e-01  5.31568020e-01\n",
            "  -1.09134915e-01  3.71439368e-02  5.05708198e-01  3.67608977e-02\n",
            "  -9.13602905e-01 -1.17086871e+00 -3.20804960e-01 -1.72659551e-01]\n",
            " [-7.31702127e-02 -5.45650693e-02  8.50726336e-02  5.71959683e-02\n",
            "  -5.95612044e-02 -1.46075367e-01 -3.23169560e-02 -1.31463086e-01\n",
            "   3.85011272e-02  6.27746892e-02 -1.15063378e-02  2.32164813e-01\n",
            "   1.66270288e-01 -3.53213296e-02  9.45354630e-02  2.04097037e-02\n",
            "  -3.58495532e-02 -2.16267497e-02 -8.02580221e-02 -7.76899609e-02\n",
            "  -6.21967359e-02 -1.99533838e-01 -8.13257496e-02  5.13929196e-02\n",
            "   4.35873713e-02 -6.98337724e-02  6.17171639e-02  6.50801731e-02\n",
            "   2.23487445e-02 -7.72531454e-02 -2.13148807e-01  5.31255949e-02]\n",
            " [ 5.78443102e-03  8.12655929e-02 -6.88279973e-03 -3.17066325e-02\n",
            "   1.48241013e-01 -1.24848781e-02  2.62516835e-01 -7.59459176e-02\n",
            "  -1.37856895e-02 -6.86474772e-02  5.41418013e-02  5.92034215e-02\n",
            "  -2.22086377e-01 -2.38230825e-01 -5.98232862e-02 -5.73534121e-02\n",
            "   9.75228652e-02 -1.05640037e-02 -3.79483527e-02 -1.67537880e-01\n",
            "  -5.55882440e-02 -9.75386350e-02 -5.84651306e-02  7.10734753e-02\n",
            "  -2.72884009e-02  4.10276654e-02 -1.43125841e-02 -9.97690626e-02\n",
            "  -2.20436999e-01  1.25634538e-01 -1.63774542e-01 -6.88101430e-02]\n",
            " [ 2.31854279e-01 -9.18064202e-02  2.59570647e-02  4.31039544e-02\n",
            "   2.28006300e-01 -1.49165675e-02  1.06577833e-01  3.76781873e-02\n",
            "  -8.04673979e-02  4.90387957e-02 -5.52791863e-02 -1.30540423e-01\n",
            "   7.04911944e-02 -1.28560379e-02 -9.05240468e-02  4.76217618e-03\n",
            "  -9.36506501e-02  6.95696408e-02  3.30820307e-02 -4.74132659e-02\n",
            "  -1.41559245e-02  2.47265075e-02  1.68793442e-01  1.38047159e-01\n",
            "   8.27541289e-02 -6.39006108e-02  3.14333912e-02  9.46649809e-02\n",
            "  -6.02166799e-02 -2.62597290e-02  1.36391411e-02 -6.19067291e-02]\n",
            " [ 6.26207119e-02  1.24381612e-01 -9.20552619e-02  1.88721990e-01\n",
            "  -9.18106572e-02 -1.19434352e-01  6.54464090e-02 -6.19124632e-03\n",
            "  -7.82717408e-02  9.59885682e-03  3.51368392e-02 -1.96051703e-01\n",
            "  -6.55534147e-02 -6.05886472e-02  2.13421556e-02 -6.68744541e-02\n",
            "  -2.40354178e-01 -9.65028501e-02  9.75897704e-02  1.31548569e-02\n",
            "  -1.85788499e-01 -4.13415922e-03  2.98450316e-02  7.38849831e-02\n",
            "  -2.46143616e-02  4.66408339e-02 -1.26350072e-01 -1.06333215e-03\n",
            "  -1.11643360e-01  1.36937386e-02 -1.16209003e-01 -1.57392416e-01]\n",
            " [ 2.47273933e-01 -1.49179894e-01  1.28445080e-01  5.80986660e-02\n",
            "   9.55185821e-02  5.62411095e-02  1.62881651e-01 -9.11897808e-02\n",
            "  -1.05848431e-01 -9.87846478e-02  5.20548876e-02  2.58198558e-02\n",
            "  -5.12331423e-02  4.44683231e-02  1.25948092e-01 -3.92483224e-01\n",
            "  -3.60789047e-02 -1.31463294e-02 -7.71217070e-02  1.26105685e-02\n",
            "  -1.28397730e-01 -1.96275368e-01  1.56946474e-02  1.06048057e-01\n",
            "  -7.58715522e-03 -2.54642672e-02  1.89790122e-01 -9.06156527e-02\n",
            "  -1.44603377e-01 -2.73258595e-01 -1.30724295e-01  8.43215822e-02]\n",
            " [ 2.27520126e-01 -3.91029077e-01  2.62157461e-01  7.93239293e-02\n",
            "  -2.06415740e-01  6.67782919e-03  2.43163984e-01  1.66363918e-02\n",
            "  -1.48234036e-01 -3.81930085e-02  4.26777237e-02  3.45117722e-01\n",
            "  -3.21444816e-01 -9.53037219e-02 -5.52878699e-03 -3.57057445e-01\n",
            "  -2.57118237e-01  1.23280995e-02  1.91706213e-02 -1.15040071e-01\n",
            "  -2.53966300e-02 -4.92652772e-01 -6.68240444e-02  1.10622186e-01\n",
            "   1.15742562e-01 -1.00329746e-02  5.08226321e-02  1.50039011e-01\n",
            "  -2.25718948e-01 -3.14163835e-01 -2.57295726e-01 -6.89211903e-02]\n",
            " [ 3.19721933e-01 -3.37647843e-01  2.62606212e-01 -2.40853896e-02\n",
            "  -2.27094687e-01  2.62688345e-01  4.66651030e-01  7.67103776e-02\n",
            "   2.31316996e-01 -6.49715898e-02 -1.53411194e-01  4.24830795e-01\n",
            "  -3.25793532e-01  4.75063683e-02  5.74617601e-02 -4.88556930e-01\n",
            "   1.46120763e-01  7.05617757e-02  9.45291416e-03 -1.41462350e-01\n",
            "  -1.89554253e-01 -6.91222350e-01 -2.14565402e-01  2.19407084e-01\n",
            "   8.61614897e-02  2.21028974e-02  2.18228920e-01 -1.39146792e-01\n",
            "  -5.74633183e-01 -5.18601785e-01 -4.23198550e-02  9.15363172e-02]\n",
            " [ 4.58419871e-01 -6.16792570e-01  1.72704588e-01  4.25737440e-02\n",
            "   1.45436891e-02  1.64623070e-03  5.98115231e-01  1.63587598e-01\n",
            "   1.09573777e-02  2.11264745e-02  1.46620513e-01  2.58292536e-01\n",
            "  -3.90275165e-01 -8.86279512e-02  4.98261311e-01 -5.77707220e-01\n",
            "  -2.19002507e-01  7.14257389e-02  1.22550633e-02  8.59619829e-02\n",
            "   5.85727800e-04 -1.16952883e+00 -1.21273736e-01  3.35431669e-01\n",
            "  -9.37505007e-02  4.02985722e-02  3.68882181e-01 -2.23264982e-01\n",
            "  -5.66702363e-01 -5.44476583e-01 -1.10284091e-01  3.39531237e-02]\n",
            " [ 5.22299276e-01 -5.04949590e-01 -4.17496128e-02 -6.16774209e-02\n",
            "   3.56041662e-02  1.58129902e-01  6.68855385e-01 -1.41889594e-01\n",
            "   1.94919384e-01  3.33233051e-02 -2.00490827e-02  5.92401864e-01\n",
            "  -3.31519014e-01  1.11233160e-01  3.80363127e-01 -7.31439765e-01\n",
            "  -5.06507026e-02 -9.87503885e-02 -5.78169340e-02  1.73588240e-01\n",
            "   2.85257143e-02 -1.13212519e+00 -1.27092022e-01  2.87096712e-01\n",
            "  -3.62735940e-02 -1.24878618e-01  2.06275104e-01  4.42650826e-02\n",
            "  -5.26233121e-01 -6.29747258e-01 -8.90351785e-02 -1.39153040e-01]\n",
            " [ 7.65601580e-02 -1.25791473e-02 -1.19630558e-02 -1.57959993e-01\n",
            "   1.34659841e-01 -1.77985892e-02  4.50608855e-02  9.56784520e-02\n",
            "  -1.70078788e-01  1.54743715e-01 -5.88762770e-02  1.02998677e-01\n",
            "  -1.05816839e-01  2.11279393e-01  9.61276757e-03  2.17559204e-01\n",
            "   6.63055487e-02 -1.73758917e-01  1.23211798e-01  2.03488628e-01\n",
            "   3.43328243e-02 -1.43909863e-01  6.22122595e-02 -2.44528658e-02\n",
            "   1.13614480e-01  1.51742163e-01 -2.86376061e-02  1.18620852e-02\n",
            "  -7.52914144e-02  2.01781599e-01  1.67661008e-02 -1.14140347e-01]\n",
            " [ 5.98836284e-01 -5.67371566e-01  3.08079572e-01 -1.39520414e-01\n",
            "  -1.63839280e-01  1.19863163e-01  6.13592465e-01 -2.11239463e-01\n",
            "   1.17332402e-01  3.44957472e-02 -7.99359894e-02  6.83571288e-01\n",
            "  -3.39467409e-01 -9.57391674e-02  4.10134844e-01 -7.69655073e-01\n",
            "   1.33184450e-01 -1.54366152e-01 -7.57632877e-02 -1.36550933e-02\n",
            "  -8.78374368e-02 -1.28870417e+00 -1.05650677e-01  1.88881712e-01\n",
            "  -1.90906393e-02 -1.14279852e-01  4.95206983e-01 -1.47743983e-01\n",
            "  -7.16426955e-01 -6.96410323e-01 -1.81763219e-01 -5.42747322e-02]\n",
            " [ 3.11491289e-01 -4.63532068e-01  1.00630700e-01 -1.89537093e-01\n",
            "  -1.69514912e-02  6.38976888e-02  3.58273638e-01 -4.31078214e-02\n",
            "  -1.50201531e-01  3.42081271e-02 -4.39754725e-02  3.73270736e-01\n",
            "  -1.82354103e-01  3.56893978e-02  2.37932579e-01 -3.90314908e-01\n",
            "  -4.93715315e-02 -7.58666448e-02 -1.44883177e-01  4.46722178e-02\n",
            "   2.54200031e-01 -6.84274671e-01  3.86472970e-02  1.67465622e-01\n",
            "   1.55737685e-02  3.85704972e-02 -3.40256406e-02 -2.69576467e-04\n",
            "  -2.23025281e-01 -4.80914476e-01  7.48690089e-02 -1.13685753e-01]\n",
            " [ 4.46247778e-01 -4.74610393e-01 -3.32580680e-03 -1.68818595e-02\n",
            "  -2.28082009e-01  1.27824730e-01  6.05789897e-01 -2.17188269e-02\n",
            "   1.70039165e-01  5.56988906e-02 -4.32864809e-02  5.95303968e-01\n",
            "  -8.46836346e-02  7.24037682e-02  2.36015868e-01 -5.65873500e-01\n",
            "   5.18598401e-02  5.62220920e-02 -1.75486027e-01 -8.43529588e-03\n",
            "  -7.65286480e-02 -8.83490733e-01 -1.57564703e-01  3.04428866e-01\n",
            "   2.33814619e-01 -8.12471157e-03  3.36777247e-01 -1.94304165e-01\n",
            "  -3.78941602e-01 -5.07255051e-01 -1.00855075e-01  1.20361030e-01]\n",
            " [-1.57766078e-01 -8.08037815e-02 -6.45785807e-02 -4.68472054e-03\n",
            "  -3.83897248e-02  2.02380502e-01 -2.75781358e-02  3.69187954e-02\n",
            "   3.32513644e-02  4.75701030e-02 -9.19299957e-02  8.35053577e-03\n",
            "   1.38336040e-02  2.34439389e-02 -5.01142068e-02  2.53533024e-02\n",
            "   1.40474428e-01 -3.32665723e-02 -2.60472091e-02  6.10438205e-03\n",
            "  -1.71847532e-01  1.84584486e-02 -8.73198981e-02 -9.00372167e-02\n",
            "   8.54544985e-02  3.56716610e-06 -5.19239243e-02 -7.71363953e-02\n",
            "  -8.33160785e-02  2.83035664e-02 -1.79211185e-01 -9.39122760e-02]]\n",
            "bias_hidden2: [[1.02960955 0.96368091 1.00895294 0.99465472 1.         1.00615435\n",
            "  1.03724925 0.99941785 1.00332665 0.99999999 1.00069535 1.03446793\n",
            "  0.97606356 0.99946373 1.01772494 0.95397907 1.         1.00098393\n",
            "  1.         1.0004264  0.99973191 0.9247605  0.99274557 1.01766961\n",
            "  1.00199481 1.00125423 1.01924454 1.         0.96684469 0.95911418\n",
            "  0.98795372 0.99983582]]\n",
            "weights_hidden2_output: [[-1.72485865]\n",
            " [-2.26352348]\n",
            " [-2.380565  ]\n",
            " [-0.70019789]\n",
            " [-0.12179237]\n",
            " [-1.22524062]\n",
            " [-2.35732017]\n",
            " [ 0.07513659]\n",
            " [-2.27661277]\n",
            " [ 0.00479138]\n",
            " [-0.05743892]\n",
            " [-1.75696307]\n",
            " [-1.68865453]\n",
            " [ 0.08252714]\n",
            " [-0.79808228]\n",
            " [-0.96360066]\n",
            " [-0.00349974]\n",
            " [-0.06733115]\n",
            " [ 0.00648132]\n",
            " [-0.03274917]\n",
            " [ 0.05525817]\n",
            " [-2.84035688]\n",
            " [-0.72168831]\n",
            " [-0.65217458]\n",
            " [-0.08234974]\n",
            " [-0.14161703]\n",
            " [-0.1688239 ]\n",
            " [ 0.13782071]\n",
            " [-0.11210258]\n",
            " [-1.20787538]\n",
            " [-2.73672333]\n",
            " [ 0.03561604]]\n",
            "bias_output: [[-0.26391064]]\n"
          ]
        },
        {
          "output_type": "stream",
          "name": "stderr",
          "text": [
            "<ipython-input-71-c92197d640a6>:18: RuntimeWarning: overflow encountered in exp\n",
            "  return 1 / (1 + np.exp(-x))\n",
            "<ipython-input-71-c92197d640a6>:24: RuntimeWarning: divide by zero encountered in log\n",
            "  return -np.mean(actual * np.log(predicted) + (1 - actual) * np.log(1 - predicted))\n",
            "<ipython-input-71-c92197d640a6>:24: RuntimeWarning: invalid value encountered in multiply\n",
            "  return -np.mean(actual * np.log(predicted) + (1 - actual) * np.log(1 - predicted))\n"
          ]
        }
      ]
    },
    {
      "cell_type": "code",
      "source": [
        "def prediction_normal(x):\n",
        "    hidden1_input = np.dot(x, weights_input_hidden1) + bias_hidden1\n",
        "    hidden1_output = relu(hidden1_input)\n",
        "    print(hidden1_output.shape)\n",
        "\n",
        "    hidden2_input = np.dot(hidden1_output, weights_hidden1_hidden2) + bias_hidden2\n",
        "    hidden2_output = relu(hidden2_input)\n",
        "    print(hidden2_output.shape)\n",
        "\n",
        "    output_input = np.dot(hidden2_output, weights_hidden2_output) + bias_output\n",
        "    predicted_output = sigmoid(output_input)\n",
        "\n",
        "\n",
        "    return predicted_output"
      ],
      "metadata": {
        "id": "KIJqlydHAlu5"
      },
      "execution_count": null,
      "outputs": []
    },
    {
      "cell_type": "code",
      "source": [
        "print(prediction_normal([[0,123,72,0,0,36.3,0.258,52]]))"
      ],
      "metadata": {
        "colab": {
          "base_uri": "https://localhost:8080/"
        },
        "id": "6bF9XBkbAmX6",
        "outputId": "a554c514-9f1c-4b10-b9d8-188b35921b75"
      },
      "execution_count": null,
      "outputs": [
        {
          "output_type": "stream",
          "name": "stdout",
          "text": [
            "(1, 16)\n",
            "(1, 32)\n",
            "[[0.]]\n"
          ]
        },
        {
          "output_type": "stream",
          "name": "stderr",
          "text": [
            "<ipython-input-71-c92197d640a6>:18: RuntimeWarning: overflow encountered in exp\n",
            "  return 1 / (1 + np.exp(-x))\n"
          ]
        }
      ]
    },
    {
      "cell_type": "code",
      "source": [
        "import numpy as np\n",
        "\n",
        "# Initialize weights and biases\n",
        "weights_input_hidden1 = np.random.randn(X.shape[1], 16) * 0.01\n",
        "bias_hidden1 = np.ones(shape=(1, 16))\n",
        "\n",
        "weights_hidden1_hidden2 = np.random.randn(16, 8) * 0.01\n",
        "bias_hidden2 = np.ones(shape=(1, 8))\n",
        "\n",
        "weights_hidden2_output = np.random.randn(8, 1) * 0.01\n",
        "bias_output = np.array([[0.1]])\n",
        "\n",
        "learning_rate = 0.01\n",
        "batch_size = 32\n",
        "\n",
        "def sigmoid(x):\n",
        "    return 1 / (1 + np.exp(-x))\n",
        "\n",
        "def sigmoid_derivative(x):\n",
        "    return x * (1 - x)\n",
        "\n",
        "def loss_function(predicted, actual):\n",
        "    return np.mean((actual - predicted) ** 2)\n",
        "\n",
        "def relu(x):\n",
        "    return np.maximum(0, x)\n",
        "\n",
        "def relu_derivative(x):\n",
        "    return np.where(x > 0, 1, 0)\n",
        "\n",
        "num_samples = X.shape[0]\n",
        "indices = np.arange(num_samples)\n",
        "\n",
        "for epoch in range(5):\n",
        "    np.random.shuffle(indices)\n",
        "    X_shuffled = X[indices]\n",
        "    y_shuffled = y[indices]\n",
        "\n",
        "    for i in range(0, num_samples, batch_size):\n",
        "        X_batch = X_shuffled[i:i + batch_size]\n",
        "        y_batch = y_shuffled[i:i + batch_size]\n",
        "\n",
        "        # Forward pass\n",
        "        hidden1_input = np.dot(X_batch, weights_input_hidden1) + bias_hidden1\n",
        "        hidden1_output = relu(hidden1_input)\n",
        "\n",
        "        hidden2_input = np.dot(hidden1_output, weights_hidden1_hidden2) + bias_hidden2\n",
        "        hidden2_output = relu(hidden2_input)\n",
        "\n",
        "        output_input = np.dot(hidden2_output, weights_hidden2_output) + bias_output\n",
        "        predicted_output = sigmoid(output_input)\n",
        "\n",
        "        loss = loss_function(predicted_output, y_batch)\n",
        "        if i % (10 * batch_size) == 0:  # Print loss every 10 batches\n",
        "            print(f'Epoch {epoch + 1}, Batch {i // batch_size + 1}, Loss: {loss}')\n",
        "\n",
        "        # Backward pass\n",
        "        output_error = predicted_output - y_batch\n",
        "        output_delta = output_error * sigmoid_derivative(predicted_output)\n",
        "\n",
        "        hidden2_error = np.dot(output_delta, weights_hidden2_output.T)\n",
        "        hidden2_delta = hidden2_error * relu_derivative(hidden2_output)\n",
        "\n",
        "        hidden1_error = np.dot(hidden2_delta, weights_hidden1_hidden2.T)\n",
        "        hidden1_delta = hidden1_error * relu_derivative(hidden1_output)\n",
        "\n",
        "        # Update weights and biases\n",
        "        weights_hidden2_output += np.dot(hidden2_output.T, output_delta) * learning_rate / batch_size\n",
        "        bias_output += np.sum(output_delta, axis=0, keepdims=True) * learning_rate / batch_size\n",
        "\n",
        "        weights_hidden1_hidden2 += np.dot(hidden1_output.T, hidden2_delta) * learning_rate / batch_size\n",
        "        bias_hidden2 += np.sum(hidden2_delta, axis=0, keepdims=True) * learning_rate / batch_size\n",
        "\n",
        "        weights_input_hidden1 += np.dot(X_batch.T, hidden1_delta) * learning_rate / batch_size\n",
        "        bias_hidden1 += np.sum(hidden1_delta, axis=0, keepdims=True) * learning_rate / batch_size\n",
        "\n",
        "\n",
        "    # print(\"Updated weights and biases after one epoch:\")\n",
        "    # print(\"weights_input_hidden1:\", weights_input_hidden1)\n",
        "    # print(\"bias_hidden1:\", bias_hidden1)\n",
        "    # print(\"weights_hidden1_hidden2:\", weights_hidden1_hidden2)\n",
        "    # print(\"bias_hidden2:\", bias_hidden2)\n",
        "    # print(\"weights_hidden2_output:\", weights_hidden2_output)\n",
        "    # print(\"bias_output:\", bias_output)\n"
      ],
      "metadata": {
        "colab": {
          "base_uri": "https://localhost:8080/"
        },
        "id": "TlZFZQIVRbYK",
        "outputId": "cfe75e4d-0692-4b20-92d0-05118a498640"
      },
      "execution_count": null,
      "outputs": [
        {
          "output_type": "stream",
          "name": "stdout",
          "text": [
            "Epoch 1, Batch 1, Loss: 0.2572058070874109\n",
            "Epoch 1, Batch 11, Loss: 0.263202106211629\n",
            "Epoch 1, Batch 21, Loss: 0.27523650855878656\n",
            "Epoch 2, Batch 1, Loss: 0.2728225206985505\n",
            "Epoch 2, Batch 11, Loss: 0.27204214917220026\n",
            "Epoch 2, Batch 21, Loss: 0.2729332473259131\n",
            "Epoch 3, Batch 1, Loss: 0.2558400669172021\n",
            "Epoch 3, Batch 11, Loss: 0.2805866419318157\n",
            "Epoch 3, Batch 21, Loss: 0.30647403520457855\n",
            "Epoch 4, Batch 1, Loss: 0.28319924467663815\n",
            "Epoch 4, Batch 11, Loss: 0.31511898002215755\n",
            "Epoch 4, Batch 21, Loss: 0.3177363463824331\n",
            "Epoch 5, Batch 1, Loss: 0.29283420046279063\n",
            "Epoch 5, Batch 11, Loss: 0.33044178580838784\n",
            "Epoch 5, Batch 21, Loss: 0.37405325884271656\n"
          ]
        }
      ]
    },
    {
      "cell_type": "code",
      "source": [
        "sigmoid_derivative(predicted_output).shape"
      ],
      "metadata": {
        "colab": {
          "base_uri": "https://localhost:8080/"
        },
        "id": "v1VmMVnktDF-",
        "outputId": "f384a3bf-7864-4993-92d9-7c0f20ffa70c"
      },
      "execution_count": null,
      "outputs": [
        {
          "output_type": "execute_result",
          "data": {
            "text/plain": [
              "(768, 1)"
            ]
          },
          "metadata": {},
          "execution_count": 26
        }
      ]
    },
    {
      "cell_type": "code",
      "source": [
        "def prediction_sgd(x):\n",
        "    hidden1_input = np.dot(x, weights_input_hidden1) + bias_hidden1\n",
        "    hidden1_output = relu(hidden1_input)\n",
        "    print(hidden1_output.shape)\n",
        "\n",
        "    hidden2_input = np.dot(hidden1_output, weights_hidden1_hidden2) + bias_hidden2\n",
        "    hidden2_output = relu(hidden2_input)\n",
        "    print(hidden2_output.shape)\n",
        "\n",
        "    output_input = np.dot(hidden2_output, weights_hidden2_output) + bias_output\n",
        "    print(output_input)\n",
        "    predicted_output = sigmoid(output_input)\n",
        "\n",
        "\n",
        "    return predicted_output\n"
      ],
      "metadata": {
        "id": "Vojc0CEvIiWa"
      },
      "execution_count": null,
      "outputs": []
    },
    {
      "cell_type": "code",
      "source": [
        "print(prediction_sgd([[6,190,92,0,0,35.5,0.278,66]]))"
      ],
      "metadata": {
        "colab": {
          "base_uri": "https://localhost:8080/",
          "height": 141
        },
        "id": "zKQwhaQNKIpk",
        "outputId": "495b6ab7-c845-4e62-acf4-6b7d43563f3f"
      },
      "execution_count": null,
      "outputs": [
        {
          "output_type": "error",
          "ename": "NameError",
          "evalue": "name 'prediction_sgd' is not defined",
          "traceback": [
            "\u001b[0;31m---------------------------------------------------------------------------\u001b[0m",
            "\u001b[0;31mNameError\u001b[0m                                 Traceback (most recent call last)",
            "\u001b[0;32m<ipython-input-58-2d402d9f8fd6>\u001b[0m in \u001b[0;36m<cell line: 1>\u001b[0;34m()\u001b[0m\n\u001b[0;32m----> 1\u001b[0;31m \u001b[0mprint\u001b[0m\u001b[0;34m(\u001b[0m\u001b[0mprediction_sgd\u001b[0m\u001b[0;34m(\u001b[0m\u001b[0;34m[\u001b[0m\u001b[0;34m[\u001b[0m\u001b[0;36m6\u001b[0m\u001b[0;34m,\u001b[0m\u001b[0;36m190\u001b[0m\u001b[0;34m,\u001b[0m\u001b[0;36m92\u001b[0m\u001b[0;34m,\u001b[0m\u001b[0;36m0\u001b[0m\u001b[0;34m,\u001b[0m\u001b[0;36m0\u001b[0m\u001b[0;34m,\u001b[0m\u001b[0;36m35.5\u001b[0m\u001b[0;34m,\u001b[0m\u001b[0;36m0.278\u001b[0m\u001b[0;34m,\u001b[0m\u001b[0;36m66\u001b[0m\u001b[0;34m]\u001b[0m\u001b[0;34m]\u001b[0m\u001b[0;34m)\u001b[0m\u001b[0;34m)\u001b[0m\u001b[0;34m\u001b[0m\u001b[0;34m\u001b[0m\u001b[0m\n\u001b[0m",
            "\u001b[0;31mNameError\u001b[0m: name 'prediction_sgd' is not defined"
          ]
        }
      ]
    },
    {
      "cell_type": "code",
      "source": [
        "z = np.ones(shape=(16,1))"
      ],
      "metadata": {
        "id": "Ey1HBip9KZhw"
      },
      "execution_count": null,
      "outputs": []
    },
    {
      "cell_type": "code",
      "source": [
        "z"
      ],
      "metadata": {
        "colab": {
          "base_uri": "https://localhost:8080/"
        },
        "id": "Ha6RsBxoT2Xy",
        "outputId": "78169b07-0480-481c-c9d7-de1dea1ee049"
      },
      "execution_count": null,
      "outputs": [
        {
          "output_type": "execute_result",
          "data": {
            "text/plain": [
              "array([[1.],\n",
              "       [1.],\n",
              "       [1.],\n",
              "       [1.],\n",
              "       [1.],\n",
              "       [1.],\n",
              "       [1.],\n",
              "       [1.],\n",
              "       [1.],\n",
              "       [1.],\n",
              "       [1.],\n",
              "       [1.],\n",
              "       [1.],\n",
              "       [1.],\n",
              "       [1.],\n",
              "       [1.]])"
            ]
          },
          "metadata": {},
          "execution_count": 51
        }
      ]
    },
    {
      "cell_type": "code",
      "source": [
        "\n",
        "print(np.dot(np.dot(np.dot(X,weights_input_hidden1)+ bias_hidden1, weights_hidden1_hidden2)+bias_hidden2, weights_hidden2_output)+bias_output)\n",
        "\n"
      ],
      "metadata": {
        "id": "StDf9ltyT8qj"
      },
      "execution_count": null,
      "outputs": []
    },
    {
      "cell_type": "code",
      "source": [],
      "metadata": {
        "id": "g9pshXvuSqVa"
      },
      "execution_count": null,
      "outputs": []
    },
    {
      "cell_type": "code",
      "source": [
        "import numpy as np\n",
        "\n",
        "class NeuralNetwork:\n",
        "    def __init__(self, input_size, hidden1_size, hidden2_size, output_size):\n",
        "        self.input_size = input_size\n",
        "        self.hidden1_size = hidden1_size\n",
        "        self.hidden2_size = hidden2_size\n",
        "        self.output_size = output_size\n",
        "\n",
        "        # Initialize weights\n",
        "        self.weights_input_hidden = np.random.randn(self.input_size, self.hidden1_size) * np.sqrt(2. / self.input_size)\n",
        "        self.weights_hidden1_hidden2 = np.random.randn(self.hidden1_size, self.hidden2_size) * np.sqrt(2. / self.hidden1_size)\n",
        "\n",
        "        self.weights_hidden2_output = np.random.randn(self.hidden2_size, self.output_size) * np.sqrt(2. / self.hidden2_size)\n",
        "\n",
        "        # Initialize the biases\n",
        "        self.bias_hidden1 = np.zeros((1, self.hidden1_size))\n",
        "        self.bias_hidden2 = np.zeros((1, self.hidden2_size))\n",
        "        self.bias_output = np.zeros((1, self.output_size))\n",
        "\n",
        "    def sigmoid(self, x):\n",
        "        return 1 / (1 + np.exp(-x))\n",
        "\n",
        "    def sigmoid_derivative(self, x):\n",
        "        return x * (1 - x)\n",
        "\n",
        "    def feedforward(self, X):\n",
        "        # Input to hidden\n",
        "        self.hidden1_activation = np.dot(X, self.weights_input_hidden) + self.bias_hidden1\n",
        "        self.hidden1_output = self.sigmoid(self.hidden1_activation)\n",
        "\n",
        "        # Hidden1 to hidden2\n",
        "        self.hidden2_activation = np.dot(self.hidden1_output, self.weights_hidden1_hidden2) + self.bias_hidden2\n",
        "        self.hidden2_output = self.sigmoid(self.hidden2_activation)\n",
        "\n",
        "        # Hidden to output\n",
        "        self.output_activation = np.dot(self.hidden2_output, self.weights_hidden2_output) + self.bias_output\n",
        "        self.predicted_output = self.sigmoid(self.output_activation)\n",
        "\n",
        "        return self.predicted_output\n",
        "\n",
        "    def backward(self, X, y, learning_rate):\n",
        "        # Compute the output layer error\n",
        "        output_error = y - self.predicted_output\n",
        "        output_delta = output_error * self.sigmoid_derivative(self.predicted_output)\n",
        "\n",
        "        # Compute the hidden2 layer error\n",
        "        hidden2_error = np.dot(output_delta, self.weights_hidden2_output.T)\n",
        "        hidden2_delta = hidden2_error * self.sigmoid_derivative(self.hidden2_output)\n",
        "\n",
        "        # Compute the hidden1 layer error\n",
        "        hidden1_error = np.dot(hidden2_delta, self.weights_hidden1_hidden2.T)\n",
        "        hidden1_delta = hidden1_error * self.sigmoid_derivative(self.hidden1_output)\n",
        "\n",
        "        # Update weights and biases\n",
        "        self.weights_hidden2_output += np.dot(self.hidden2_output.T, output_delta) * learning_rate\n",
        "        self.bias_output += np.sum(output_delta, axis=0, keepdims=True) * learning_rate\n",
        "\n",
        "        self.weights_hidden1_hidden2 += np.dot(self.hidden1_output.T, hidden2_delta) * learning_rate\n",
        "        self.bias_hidden2 += np.sum(hidden2_delta, axis=0, keepdims=True) * learning_rate\n",
        "\n",
        "        self.weights_input_hidden += np.dot(X.T, hidden1_delta) * learning_rate\n",
        "        self.bias_hidden1 += np.sum(hidden1_delta, axis=0, keepdims=True) * learning_rate\n",
        "\n",
        "    def train(self, X, y, epochs, learning_rate):\n",
        "        for epoch in range(epochs):\n",
        "            output = self.feedforward(X)\n",
        "            self.backward(X, y, learning_rate)\n",
        "            if epoch % 10 == 0:\n",
        "                loss = np.mean(np.square(y - output))\n",
        "                print(f\"Epoch {epoch}, Loss: {loss}\")\n",
        "\n",
        "# Example usage:\n",
        "# Assuming X and y are defined elsewhere\n",
        "# X should be the input data matrix\n",
        "# y should be the target output vector/matrix\n",
        "# For example:\n",
        "# X = np.array([[0, 0], [0, 1], [1, 0], [1, 1]])\n",
        "# y = np.array([[0], [1], [1], [0]])\n",
        "\n",
        "nn = NeuralNetwork(input_size=8, hidden1_size=32, hidden2_size=16, output_size=1)\n",
        "nn.train(X, y, epochs=100, learning_rate=0.001)\n",
        "\n",
        "# Test the trained model\n",
        "output = nn.feedforward([[1,126,60,0,0,30.1,0.349,47]])\n",
        "print(\"Predictions after training:\")\n",
        "print(output)\n"
      ],
      "metadata": {
        "colab": {
          "base_uri": "https://localhost:8080/"
        },
        "id": "TwDBeUNqSGfr",
        "outputId": "b7288bb0-7e2e-41ee-e940-2dfae0d05505"
      },
      "execution_count": null,
      "outputs": [
        {
          "output_type": "stream",
          "name": "stdout",
          "text": [
            "Epoch 0, Loss: 0.24364786706132832\n",
            "Epoch 10, Loss: 0.2285584494108692\n",
            "Epoch 20, Loss: 0.22572451165838914\n",
            "Epoch 30, Loss: 0.22374879933465486\n",
            "Epoch 40, Loss: 0.22239372350984168\n",
            "Epoch 50, Loss: 0.22128142159230166\n",
            "Epoch 60, Loss: 0.22027178803436176\n",
            "Epoch 70, Loss: 0.21931707562851138\n",
            "Epoch 80, Loss: 0.2183775628089821\n",
            "Epoch 90, Loss: 0.21748132966709466\n",
            "Predictions after training:\n",
            "[[0.40857764]]\n"
          ]
        }
      ]
    },
    {
      "cell_type": "code",
      "source": [
        "import numpy as np\n",
        "\n",
        "class NeuralNetwork:\n",
        "    def __init__(self, input_size, hidden1_size, hidden2_size, output_size):\n",
        "        self.input_size = input_size\n",
        "        self.hidden1_size = hidden1_size\n",
        "        self.hidden2_size = hidden2_size\n",
        "        self.output_size = output_size\n",
        "\n",
        "        # Initialize weights with He initialization\n",
        "        self.weights_input_hidden = np.random.randn(self.input_size, self.hidden1_size) * np.sqrt(2. / self.input_size)\n",
        "        self.weights_hidden1_hidden2 = np.random.randn(self.hidden1_size, self.hidden2_size) * np.sqrt(2. / self.hidden1_size)\n",
        "        self.weights_hidden2_output = np.random.randn(self.hidden2_size, self.output_size) * np.sqrt(2. / self.hidden2_size)\n",
        "\n",
        "        # Initialize the biases\n",
        "        self.bias_hidden1 = np.zeros((1, self.hidden1_size))\n",
        "        self.bias_hidden2 = np.zeros((1, self.hidden2_size))\n",
        "        self.bias_output = np.zeros((1, self.output_size))\n",
        "\n",
        "    def sigmoid(self, x):\n",
        "        return 1 / (1 + np.exp(-x))\n",
        "\n",
        "    def sigmoid_derivative(self, x):\n",
        "        return x * (1 - x)\n",
        "\n",
        "    def relu(self, x):\n",
        "        return np.maximum(0, x)\n",
        "\n",
        "    def relu_derivative(self, x):\n",
        "        return np.where(x > 0, 1, 0)\n",
        "\n",
        "    def binary_cross_entropy(self, predicted, actual):\n",
        "        epsilon = 1e-12  # to prevent log(0)\n",
        "        predicted = np.clip(predicted, epsilon, 1. - epsilon)\n",
        "        return -np.mean(actual * np.log(predicted) + (1 - actual) * np.log(1 - predicted))\n",
        "\n",
        "    def feedforward(self, X):\n",
        "        # Input to hidden1\n",
        "        self.hidden1_activation = np.dot(X, self.weights_input_hidden) + self.bias_hidden1\n",
        "        self.hidden1_output = self.relu(self.hidden1_activation)\n",
        "\n",
        "        # Hidden1 to hidden2\n",
        "        self.hidden2_activation = np.dot(self.hidden1_output, self.weights_hidden1_hidden2) + self.bias_hidden2\n",
        "        self.hidden2_output = self.relu(self.hidden2_activation)\n",
        "\n",
        "        # Hidden2 to output\n",
        "        self.output_activation = np.dot(self.hidden2_output, self.weights_hidden2_output) + self.bias_output\n",
        "        self.predicted_output = self.sigmoid(self.output_activation)\n",
        "\n",
        "        return self.predicted_output\n",
        "\n",
        "    def backward(self, X, y, learning_rate):\n",
        "        # Compute the output layer error\n",
        "        output_error = self.predicted_output - y\n",
        "        output_delta = output_error * self.sigmoid_derivative(self.predicted_output)\n",
        "\n",
        "        # Compute the hidden2 layer error\n",
        "        hidden2_error = np.dot(output_delta, self.weights_hidden2_output.T)\n",
        "        hidden2_delta = hidden2_error * self.relu_derivative(self.hidden2_output)\n",
        "\n",
        "        # Compute the hidden1 layer error\n",
        "        hidden1_error = np.dot(hidden2_delta, self.weights_hidden1_hidden2.T)\n",
        "        hidden1_delta = hidden1_error * self.relu_derivative(self.hidden1_output)\n",
        "\n",
        "        # Update weights and biases\n",
        "        self.weights_hidden2_output += np.dot(self.hidden2_output.T, output_delta) * learning_rate\n",
        "        self.bias_output += np.sum(output_delta, axis=0, keepdims=True) * learning_rate\n",
        "\n",
        "        self.weights_hidden1_hidden2 += np.dot(self.hidden1_output.T, hidden2_delta) * learning_rate\n",
        "        self.bias_hidden2 += np.sum(hidden2_delta, axis=0, keepdims=True) * learning_rate\n",
        "\n",
        "        self.weights_input_hidden += np.dot(X.T, hidden1_delta) * learning_rate\n",
        "        self.bias_hidden1 += np.sum(hidden1_delta, axis=0, keepdims=True) * learning_rate\n",
        "\n",
        "    def train(self, X, y, epochs, learning_rate):\n",
        "        for epoch in range(epochs):\n",
        "            output = self.feedforward(X)\n",
        "            self.backward(X, y, learning_rate)\n",
        "            if epoch % 100 == 0:\n",
        "                loss = self.binary_cross_entropy(output, y)\n",
        "                print(f\"Epoch {epoch}, Loss: {loss}\")\n",
        "\n",
        "# Example usage:\n",
        "# Assuming X and y are defined elsewhere\n",
        "# X should be the input data matrix\n",
        "# y should be the target output vector/matrix\n",
        "# For example:\n",
        "# X = np.array([[0, 0], [0, 1], [1, 0], [1, 1]])\n",
        "# y = np.array([[0], [1], [1], [0]])\n",
        "\n",
        "# Normalize input data\n",
        "X = (X - np.min(X)) / (np.max(X) - np.min(X))\n",
        "\n",
        "nn = NeuralNetwork(input_size=8, hidden1_size=32, hidden2_size=16, output_size=1)\n",
        "nn.train(X, y, epochs=1000, learning_rate=0.01)\n",
        "\n",
        "# Test the trained model\n",
        "output = nn.feedforward(np.array([[1,126,60,0,0,30.1,0.349,47]]))\n",
        "print(\"Predictions after training:\")\n",
        "print(output)\n"
      ],
      "metadata": {
        "colab": {
          "base_uri": "https://localhost:8080/"
        },
        "id": "-bDKDPbCSjWr",
        "outputId": "b1adbba5-faf4-43d6-fd6b-bc0c5acd4b36"
      },
      "execution_count": null,
      "outputs": [
        {
          "output_type": "stream",
          "name": "stdout",
          "text": [
            "Epoch 0, Loss: 0.7060554093717362\n",
            "Epoch 100, Loss: 6.497219400295372\n",
            "Epoch 200, Loss: 7.0348464217233975\n",
            "Epoch 300, Loss: 7.346227684998566\n",
            "Epoch 400, Loss: 7.565904772092636\n",
            "Epoch 500, Loss: 7.7356292527089865\n",
            "Epoch 600, Loss: 7.873884296395813\n",
            "Epoch 700, Loss: 7.990492371476175\n",
            "Epoch 800, Loss: 8.09129857683994\n",
            "Epoch 900, Loss: 8.180062448569068\n",
            "Predictions after training:\n",
            "[[1.]]\n"
          ]
        }
      ]
    },
    {
      "cell_type": "code",
      "source": [
        "import numpy as np\n",
        "\n",
        "class NeuralNetwork:\n",
        "    def __init__(self, input_size, hidden1_size, hidden2_size, output_size):\n",
        "        self.input_size = input_size\n",
        "        self.hidden1_size = hidden1_size\n",
        "        self.hidden2_size = hidden2_size\n",
        "        self.output_size = output_size\n",
        "\n",
        "        # Initialize weights with He initialization\n",
        "        self.weights_input_hidden = np.random.randn(self.input_size, self.hidden1_size) * np.sqrt(2. / self.input_size)\n",
        "        self.weights_hidden1_hidden2 = np.random.randn(self.hidden1_size, self.hidden2_size) * np.sqrt(2. / self.hidden1_size)\n",
        "        self.weights_hidden2_output = np.random.randn(self.hidden2_size, self.output_size) * np.sqrt(2. / self.hidden2_size)\n",
        "\n",
        "        # Initialize the biases\n",
        "        self.bias_hidden1 = np.zeros((1, self.hidden1_size))\n",
        "        self.bias_hidden2 = np.zeros((1, self.hidden2_size))\n",
        "        self.bias_output = np.zeros((1, self.output_size))\n",
        "\n",
        "    def sigmoid(self, x):\n",
        "        return 1 / (1 + np.exp(-x))\n",
        "\n",
        "    def sigmoid_derivative(self, x):\n",
        "        return x * (1 - x)\n",
        "\n",
        "    def relu(self, x):\n",
        "        return np.maximum(0, x)\n",
        "\n",
        "    def relu_derivative(self, x):\n",
        "        return np.where(x > 0, 1, 0)\n",
        "\n",
        "    def binary_cross_entropy(self, predicted, actual):\n",
        "        epsilon = 1e-12  # to prevent log(0)\n",
        "        predicted = np.clip(predicted, epsilon, 1. - epsilon)\n",
        "        return -np.mean(actual * np.log(predicted) + (1 - actual) * np.log(1 - predicted))\n",
        "\n",
        "    def feedforward(self, X):\n",
        "        # Input to hidden1\n",
        "        self.hidden1_activation = np.dot(X, self.weights_input_hidden) + self.bias_hidden1\n",
        "        self.hidden1_output = self.relu(self.hidden1_activation)\n",
        "\n",
        "        # Hidden1 to hidden2\n",
        "        self.hidden2_activation = np.dot(self.hidden1_output, self.weights_hidden1_hidden2) + self.bias_hidden2\n",
        "        self.hidden2_output = self.relu(self.hidden2_activation)\n",
        "\n",
        "        # Hidden2 to output\n",
        "        self.output_activation = np.dot(self.hidden2_output, self.weights_hidden2_output) + self.bias_output\n",
        "        self.predicted_output = self.sigmoid(self.output_activation)\n",
        "\n",
        "        return self.predicted_output\n",
        "\n",
        "    def backward(self, X, y, learning_rate):\n",
        "        # Compute the output layer error\n",
        "        output_error = self.predicted_output - y\n",
        "        output_delta = output_error * self.sigmoid_derivative(self.predicted_output)\n",
        "\n",
        "        # Compute the hidden2 layer error\n",
        "        hidden2_error = np.dot(output_delta, self.weights_hidden2_output.T)\n",
        "        hidden2_delta = hidden2_error * self.relu_derivative(self.hidden2_output)\n",
        "\n",
        "        # Compute the hidden1 layer error\n",
        "        hidden1_error = np.dot(hidden2_delta, self.weights_hidden1_hidden2.T)\n",
        "        hidden1_delta = hidden1_error * self.relu_derivative(self.hidden1_output)\n",
        "\n",
        "        # Update weights and biases\n",
        "        self.weights_hidden2_output -= np.dot(self.hidden2_output.T, output_delta) * learning_rate\n",
        "        self.bias_output -= np.sum(output_delta, axis=0, keepdims=True) * learning_rate\n",
        "\n",
        "        self.weights_hidden1_hidden2 -= np.dot(self.hidden1_output.T, hidden2_delta) * learning_rate\n",
        "        self.bias_hidden2 -= np.sum(hidden2_delta, axis=0, keepdims=True) * learning_rate\n",
        "\n",
        "        self.weights_input_hidden -= np.dot(X.T, hidden1_delta) * learning_rate\n",
        "        self.bias_hidden1 -= np.sum(hidden1_delta, axis=0, keepdims=True) * learning_rate\n",
        "\n",
        "    def train(self, X, y, epochs, learning_rate):\n",
        "        for epoch in range(epochs):\n",
        "            output = self.feedforward(X)\n",
        "            self.backward(X, y, learning_rate)\n",
        "            if epoch % 100 == 0:\n",
        "                loss = self.binary_cross_entropy(output, y)\n",
        "                print(f\"Epoch {epoch}, Loss: {loss}\")\n",
        "\n",
        "# Example usage:\n",
        "# Assuming X and y are defined elsewhere\n",
        "# X should be the input data matrix\n",
        "# y should be the target output vector/matrix\n",
        "# For example:\n",
        "# X = np.array([[0, 0], [0, 1], [1, 0], [1, 1]])\n",
        "# y = np.array([[0], [1], [1], [0]])\n",
        "\n",
        "# Normalize input data\n",
        "X = (X - np.min(X)) / (np.max(X) - np.min(X))\n",
        "\n",
        "nn = NeuralNetwork(input_size=8, hidden1_size=32, hidden2_size=16, output_size=1)\n",
        "nn.train(X, y, epochs=10, learning_rate=0.001)\n",
        "\n",
        "# Test the trained model\n",
        "output = nn.feedforward(np.array([[1,126,60,0,0,30.1,0.349,47]]))\n",
        "print(\"Predictions after training:\")\n",
        "print(output)\n"
      ],
      "metadata": {
        "colab": {
          "base_uri": "https://localhost:8080/"
        },
        "id": "xQKrE3E7acAj",
        "outputId": "d3232399-8798-4162-90d6-0a013497447f"
      },
      "execution_count": null,
      "outputs": [
        {
          "output_type": "stream",
          "name": "stdout",
          "text": [
            "Epoch 0, Loss: 0.6923671466348617\n",
            "Predictions after training:\n",
            "[[9.10868244e-08]]\n"
          ]
        }
      ]
    },
    {
      "cell_type": "code",
      "source": [],
      "metadata": {
        "id": "v8C1N_sza7t9"
      },
      "execution_count": null,
      "outputs": []
    }
  ]
}
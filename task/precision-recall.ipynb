{
 "cells": [
  {
   "cell_type": "markdown",
   "metadata": {},
   "source": [
    "## Precision is more important\n",
    "\n",
    "### 1. Predicting a good day based on weather conditions to launch satellite: Precision is more important\n",
    "🔖 Missing out to predict a good weather day is okay (low recall), but predicting the wrong weather day (false positive) to launch the satellite can be disastrous.\n",
    "\n",
    "### 2. Criminal death punishment: Precision is more important\n",
    "🔖 Missing out to punish a criminal is okay (low recall), but incriminating an innocent person (false positive) is undesirable.\n",
    "\n",
    "### 3. Email spam detection: Precision is more important\n",
    "🔖 Missing out to detect/classify a spam email is okay (low recall), but no legit or important email must go into the spam folder (false positive)."
   ]
  },
  {
   "cell_type": "markdown",
   "metadata": {},
   "source": []
  },
  {
   "cell_type": "code",
   "execution_count": null,
   "metadata": {},
   "outputs": [],
   "source": []
  },
  {
   "cell_type": "markdown",
   "metadata": {},
   "source": [
    "## Recall is more important\n",
    "\n",
    "### 1. Medical test (eg. cancer detection): Recall is more important\n",
    "🔖 It is okay to classify a healthy person as having cancer (false positive) and following up with more medical tests, but it is definitely not okay to miss identifying a cancer patient or classifying a cancer patient as healthy (false negative) since the person’s life is at stake.\n",
    "\n",
    "### 2. Not Safe For Work (NSFW) images detection: Recall is more important\n",
    "🔖 It is okay to classify a valid image as NSFW (false positive) — it can always be rectified by manual data quality checks later. But it is definitely not okay to classify an NSFW image as a safe image (false negative) and displaying it on your company’s website since it will damage the company’s reputation.\n",
    "\n",
    "### 3. Flagging fraudulent transactions: Recall is more important\n",
    "🔖 It is okay to classify a legit transaction as fraudulent — it can always be reverified by passing through additional checks. But it is definitely not okay to classify a fraudulent transaction as legit (false negative)."
   ]
  },
  {
   "cell_type": "markdown",
   "metadata": {},
   "source": []
  },
  {
   "cell_type": "markdown",
   "metadata": {},
   "source": []
  },
  {
   "cell_type": "markdown",
   "metadata": {},
   "source": []
  }
 ],
 "metadata": {
  "kernelspec": {
   "display_name": "gz",
   "language": "python",
   "name": "python3"
  },
  "language_info": {
   "codemirror_mode": {
    "name": "ipython",
    "version": 3
   },
   "file_extension": ".py",
   "mimetype": "text/x-python",
   "name": "python",
   "nbconvert_exporter": "python",
   "pygments_lexer": "ipython3",
   "version": "3.9.19"
  }
 },
 "nbformat": 4,
 "nbformat_minor": 2
}
